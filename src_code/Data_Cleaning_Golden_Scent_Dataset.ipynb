{
 "cells": [
  {
   "cell_type": "code",
   "execution_count": 7,
   "metadata": {},
   "outputs": [
    {
     "data": {
      "text/plain": [
       "'\\nimport pandas as pd\\nimport matplotlib.pyplot as plt\\nimport numpy as np\\n%matplotlib inline\\n'"
      ]
     },
     "execution_count": 7,
     "metadata": {},
     "output_type": "execute_result"
    }
   ],
   "source": [
    "import pandas as pd\n",
    "import matplotlib.pyplot as plt\n",
    "import numpy as np\n",
    "%matplotlib inline"
   ]
  },
  {
   "cell_type": "markdown",
   "metadata": {},
   "source": [
    "Load the Dataset"
   ]
  },
  {
   "cell_type": "code",
   "execution_count": 2,
   "metadata": {},
   "outputs": [],
   "source": [
    "\n",
    "df_perfumes = pd.read_csv(\"https://raw.githubusercontent.com/rawanalqarni/Perfumes_Recommender/main/Datasets/Perfume_Dataset.csv\")"
   ]
  },
  {
   "cell_type": "code",
   "execution_count": 3,
   "metadata": {},
   "outputs": [],
   "source": [
    "# Questions\n",
    "# Timeline of the top brands (yearly or based on the fragrance family)\n",
    "# Most selled perfumes based on Gender\n",
    "# Focus on the top brands and see their rating performance overtime and why their rating ggot better\n",
    "# Compare the prices with the base notes/Fragrance Family of the perfume\n",
    "# Compare the prices with the rating of the brand"
   ]
  },
  {
   "cell_type": "markdown",
   "metadata": {},
   "source": [
    "Check that the Dataset was loaded Correctly"
   ]
  },
  {
   "cell_type": "code",
   "execution_count": 4,
   "metadata": {},
   "outputs": [
    {
     "data": {
      "text/html": [
       "<div>\n",
       "<style scoped>\n",
       "    .dataframe tbody tr th:only-of-type {\n",
       "        vertical-align: middle;\n",
       "    }\n",
       "\n",
       "    .dataframe tbody tr th {\n",
       "        vertical-align: top;\n",
       "    }\n",
       "\n",
       "    .dataframe thead th {\n",
       "        text-align: right;\n",
       "    }\n",
       "</style>\n",
       "<table border=\"1\" class=\"dataframe\">\n",
       "  <thead>\n",
       "    <tr style=\"text-align: right;\">\n",
       "      <th></th>\n",
       "      <th>Name</th>\n",
       "      <th>Price</th>\n",
       "      <th>Description</th>\n",
       "      <th>Rate</th>\n",
       "      <th>Rating_count</th>\n",
       "      <th>Details</th>\n",
       "      <th>image</th>\n",
       "      <th>Brand</th>\n",
       "      <th>Gender</th>\n",
       "      <th>Product_Type</th>\n",
       "      <th>Character</th>\n",
       "      <th>Fragrance_Family</th>\n",
       "      <th>Size</th>\n",
       "      <th>Year</th>\n",
       "      <th>Ingredients</th>\n",
       "      <th>Concentration</th>\n",
       "      <th>Top_note</th>\n",
       "      <th>Middle_note</th>\n",
       "      <th>Base_note</th>\n",
       "    </tr>\n",
       "  </thead>\n",
       "  <tbody>\n",
       "    <tr>\n",
       "      <th>2124</th>\n",
       "      <td>Arabiyat Al Faris Concentrated Perfume Oil</td>\n",
       "      <td>25 SAR</td>\n",
       "      <td>A concentrated perfume oil for both men and wo...</td>\n",
       "      <td>none</td>\n",
       "      <td>none</td>\n",
       "      <td>['Arabiyat', 'Unisex', 'Perfume Oil', 'Natural...</td>\n",
       "      <td>https://assets.goldenscent.com/catalog/product...</td>\n",
       "      <td>Arabiyat</td>\n",
       "      <td>Unisex</td>\n",
       "      <td>Perfume Oil</td>\n",
       "      <td>Natural</td>\n",
       "      <td>Arabian</td>\n",
       "      <td>12 ml</td>\n",
       "      <td>NaN</td>\n",
       "      <td>Oriental notes, Aromatic notes, oriental notes</td>\n",
       "      <td>Perfume Oil</td>\n",
       "      <td>Oriental notes</td>\n",
       "      <td>Aromatic</td>\n",
       "      <td>Oriental</td>\n",
       "    </tr>\n",
       "  </tbody>\n",
       "</table>\n",
       "</div>"
      ],
      "text/plain": [
       "                                            Name   Price  \\\n",
       "2124  Arabiyat Al Faris Concentrated Perfume Oil  25 SAR   \n",
       "\n",
       "                                            Description  Rate Rating_count  \\\n",
       "2124  A concentrated perfume oil for both men and wo...  none         none   \n",
       "\n",
       "                                                Details  \\\n",
       "2124  ['Arabiyat', 'Unisex', 'Perfume Oil', 'Natural...   \n",
       "\n",
       "                                                  image     Brand  Gender  \\\n",
       "2124  https://assets.goldenscent.com/catalog/product...  Arabiyat  Unisex   \n",
       "\n",
       "     Product_Type Character Fragrance_Family   Size Year  \\\n",
       "2124  Perfume Oil   Natural          Arabian  12 ml  NaN   \n",
       "\n",
       "                                         Ingredients Concentration  \\\n",
       "2124  Oriental notes, Aromatic notes, oriental notes   Perfume Oil   \n",
       "\n",
       "            Top_note Middle_note Base_note  \n",
       "2124  Oriental notes    Aromatic  Oriental  "
      ]
     },
     "execution_count": 4,
     "metadata": {},
     "output_type": "execute_result"
    }
   ],
   "source": [
    "df_perfumes.sample()"
   ]
  },
  {
   "cell_type": "markdown",
   "metadata": {},
   "source": [
    "Check the shape of the Dataset"
   ]
  },
  {
   "cell_type": "code",
   "execution_count": 5,
   "metadata": {},
   "outputs": [
    {
     "data": {
      "text/plain": [
       "(6237, 19)"
      ]
     },
     "execution_count": 5,
     "metadata": {},
     "output_type": "execute_result"
    }
   ],
   "source": [
    "df_perfumes.shape"
   ]
  },
  {
   "cell_type": "markdown",
   "metadata": {},
   "source": [
    "Check the Number of Missing Values in Each Column"
   ]
  },
  {
   "cell_type": "code",
   "execution_count": 6,
   "metadata": {},
   "outputs": [
    {
     "data": {
      "text/plain": [
       "Name                   0\n",
       "Price                  0\n",
       "Description          109\n",
       "Rate                 109\n",
       "Rating_count         114\n",
       "Details              115\n",
       "image                115\n",
       "Brand                404\n",
       "Gender               317\n",
       "Product_Type         618\n",
       "Character            870\n",
       "Fragrance_Family     631\n",
       "Size                 641\n",
       "Year                2015\n",
       "Ingredients          758\n",
       "Concentration       1361\n",
       "Top_note             929\n",
       "Middle_note         1235\n",
       "Base_note           1273\n",
       "dtype: int64"
      ]
     },
     "execution_count": 6,
     "metadata": {},
     "output_type": "execute_result"
    }
   ],
   "source": [
    "df_perfumes.isna().sum()"
   ]
  },
  {
   "cell_type": "code",
   "execution_count": 7,
   "metadata": {},
   "outputs": [
    {
     "name": "stdout",
     "output_type": "stream",
     "text": [
      "<class 'pandas.core.frame.DataFrame'>\n",
      "RangeIndex: 6237 entries, 0 to 6236\n",
      "Data columns (total 19 columns):\n",
      " #   Column            Non-Null Count  Dtype \n",
      "---  ------            --------------  ----- \n",
      " 0   Name              6237 non-null   object\n",
      " 1   Price             6237 non-null   object\n",
      " 2   Description       6128 non-null   object\n",
      " 3   Rate              6128 non-null   object\n",
      " 4   Rating_count      6123 non-null   object\n",
      " 5   Details           6122 non-null   object\n",
      " 6   image             6122 non-null   object\n",
      " 7   Brand             5833 non-null   object\n",
      " 8   Gender            5920 non-null   object\n",
      " 9   Product_Type      5619 non-null   object\n",
      " 10  Character         5367 non-null   object\n",
      " 11  Fragrance_Family  5606 non-null   object\n",
      " 12  Size              5596 non-null   object\n",
      " 13  Year              4222 non-null   object\n",
      " 14  Ingredients       5479 non-null   object\n",
      " 15  Concentration     4876 non-null   object\n",
      " 16  Top_note          5308 non-null   object\n",
      " 17  Middle_note       5002 non-null   object\n",
      " 18  Base_note         4964 non-null   object\n",
      "dtypes: object(19)\n",
      "memory usage: 925.9+ KB\n"
     ]
    }
   ],
   "source": [
    "df_perfumes.info()"
   ]
  },
  {
   "cell_type": "markdown",
   "metadata": {},
   "source": [
    "**Drop the Image Attribute**"
   ]
  },
  {
   "cell_type": "code",
   "execution_count": 8,
   "metadata": {},
   "outputs": [],
   "source": [
    "df_perfumes.drop(['image','Description'], inplace=True, axis=1)"
   ]
  },
  {
   "cell_type": "code",
   "execution_count": 9,
   "metadata": {},
   "outputs": [
    {
     "data": {
      "text/html": [
       "<div>\n",
       "<style scoped>\n",
       "    .dataframe tbody tr th:only-of-type {\n",
       "        vertical-align: middle;\n",
       "    }\n",
       "\n",
       "    .dataframe tbody tr th {\n",
       "        vertical-align: top;\n",
       "    }\n",
       "\n",
       "    .dataframe thead th {\n",
       "        text-align: right;\n",
       "    }\n",
       "</style>\n",
       "<table border=\"1\" class=\"dataframe\">\n",
       "  <thead>\n",
       "    <tr style=\"text-align: right;\">\n",
       "      <th></th>\n",
       "      <th>Name</th>\n",
       "      <th>Price</th>\n",
       "      <th>Rate</th>\n",
       "      <th>Rating_count</th>\n",
       "      <th>Details</th>\n",
       "      <th>Brand</th>\n",
       "      <th>Gender</th>\n",
       "      <th>Product_Type</th>\n",
       "      <th>Character</th>\n",
       "      <th>Fragrance_Family</th>\n",
       "      <th>Size</th>\n",
       "      <th>Year</th>\n",
       "      <th>Ingredients</th>\n",
       "      <th>Concentration</th>\n",
       "      <th>Top_note</th>\n",
       "      <th>Middle_note</th>\n",
       "      <th>Base_note</th>\n",
       "    </tr>\n",
       "  </thead>\n",
       "  <tbody>\n",
       "    <tr>\n",
       "      <th>4942</th>\n",
       "      <td>Boucheron Santal De Kandy</td>\n",
       "      <td>1024 SAR</td>\n",
       "      <td>none</td>\n",
       "      <td>none</td>\n",
       "      <td>['Boucheron', 'Unisex', 'Perfume', 'Glamorous'...</td>\n",
       "      <td>Boucheron</td>\n",
       "      <td>Unisex</td>\n",
       "      <td>Perfume</td>\n",
       "      <td>Glamorous</td>\n",
       "      <td>Woody Oriental</td>\n",
       "      <td>125 ml</td>\n",
       "      <td>2018</td>\n",
       "      <td>Cardamom, black pepper, violet, jasmine, cedar...</td>\n",
       "      <td>Eau de Parfum</td>\n",
       "      <td>Cardamom, black pepper</td>\n",
       "      <td>Cedar wood, guaiac wood</td>\n",
       "      <td>musk</td>\n",
       "    </tr>\n",
       "  </tbody>\n",
       "</table>\n",
       "</div>"
      ],
      "text/plain": [
       "                           Name     Price  Rate Rating_count  \\\n",
       "4942  Boucheron Santal De Kandy  1024 SAR  none         none   \n",
       "\n",
       "                                                Details      Brand  Gender  \\\n",
       "4942  ['Boucheron', 'Unisex', 'Perfume', 'Glamorous'...  Boucheron  Unisex   \n",
       "\n",
       "     Product_Type  Character Fragrance_Family    Size  Year  \\\n",
       "4942      Perfume  Glamorous   Woody Oriental  125 ml  2018   \n",
       "\n",
       "                                            Ingredients  Concentration  \\\n",
       "4942  Cardamom, black pepper, violet, jasmine, cedar...  Eau de Parfum   \n",
       "\n",
       "                    Top_note              Middle_note Base_note  \n",
       "4942  Cardamom, black pepper  Cedar wood, guaiac wood      musk  "
      ]
     },
     "execution_count": 9,
     "metadata": {},
     "output_type": "execute_result"
    }
   ],
   "source": [
    "df_perfumes.sample()"
   ]
  },
  {
   "cell_type": "markdown",
   "metadata": {},
   "source": [
    "Portray the Number of Duplicated Values"
   ]
  },
  {
   "cell_type": "code",
   "execution_count": 10,
   "metadata": {},
   "outputs": [
    {
     "data": {
      "text/plain": [
       "34"
      ]
     },
     "execution_count": 10,
     "metadata": {},
     "output_type": "execute_result"
    }
   ],
   "source": [
    "df_perfumes.duplicated().sum()"
   ]
  },
  {
   "cell_type": "markdown",
   "metadata": {},
   "source": [
    "Drop the Duplicated Rows"
   ]
  },
  {
   "cell_type": "code",
   "execution_count": 11,
   "metadata": {},
   "outputs": [],
   "source": [
    "df_perfumes.drop(df_perfumes[df_perfumes.duplicated()].index, inplace = True)"
   ]
  },
  {
   "cell_type": "markdown",
   "metadata": {},
   "source": [
    "Number of Rows with 10 or More Missing Column Values"
   ]
  },
  {
   "cell_type": "code",
   "execution_count": 12,
   "metadata": {},
   "outputs": [
    {
     "data": {
      "text/plain": [
       "307"
      ]
     },
     "execution_count": 12,
     "metadata": {},
     "output_type": "execute_result"
    }
   ],
   "source": [
    "len(df_perfumes[df_perfumes.isnull().sum(axis=1) >= 10])"
   ]
  },
  {
   "cell_type": "markdown",
   "metadata": {},
   "source": [
    "Drop the Rows with 10 or More Missing Columns"
   ]
  },
  {
   "cell_type": "code",
   "execution_count": 13,
   "metadata": {},
   "outputs": [],
   "source": [
    "df_perfumes.drop(df_perfumes[df_perfumes.isnull().sum(axis=1) >= 10].index, inplace = True)"
   ]
  },
  {
   "cell_type": "code",
   "execution_count": 14,
   "metadata": {},
   "outputs": [
    {
     "data": {
      "text/plain": [
       "(5896, 17)"
      ]
     },
     "execution_count": 14,
     "metadata": {},
     "output_type": "execute_result"
    }
   ],
   "source": [
    "df_perfumes.shape"
   ]
  },
  {
   "cell_type": "markdown",
   "metadata": {},
   "source": [
    "**Check & Clean the Rating Count Attribute**"
   ]
  },
  {
   "cell_type": "code",
   "execution_count": 15,
   "metadata": {},
   "outputs": [
    {
     "data": {
      "text/plain": [
       "none         5354\n",
       "1 Rating      321\n",
       "2 Rating      108\n",
       "3 Rating       54\n",
       "4 Rating       25\n",
       "5 Rating        9\n",
       "6 Rating        8\n",
       "8 Rating        6\n",
       "7 Rating        4\n",
       "18 Rating       3\n",
       "13 Rating       2\n",
       "17 Rating       1\n",
       "12 Rating       1\n",
       "Name: Rating_count, dtype: int64"
      ]
     },
     "execution_count": 15,
     "metadata": {},
     "output_type": "execute_result"
    }
   ],
   "source": [
    "df_perfumes['Rating_count'].value_counts()"
   ]
  },
  {
   "cell_type": "markdown",
   "metadata": {},
   "source": [
    "Remove the String 'Rating' from the Rating_count entries"
   ]
  },
  {
   "cell_type": "code",
   "execution_count": 16,
   "metadata": {},
   "outputs": [],
   "source": [
    "df_perfumes['Rating_count'] = df_perfumes['Rating_count'].str.replace('Rating', '')"
   ]
  },
  {
   "cell_type": "code",
   "execution_count": 17,
   "metadata": {},
   "outputs": [],
   "source": [
    "df_perfumes['Rating_count'] = df_perfumes['Rating_count'].str.replace('none', '0')"
   ]
  },
  {
   "cell_type": "code",
   "execution_count": 18,
   "metadata": {},
   "outputs": [
    {
     "data": {
      "text/plain": [
       "0"
      ]
     },
     "execution_count": 18,
     "metadata": {},
     "output_type": "execute_result"
    }
   ],
   "source": [
    "#The ones that dont have a rating also dont have any rating counts\n",
    "len(df_perfumes[(df_perfumes['Rating_count'] == 'none') & (df_perfumes['Rate'] == 'none')])"
   ]
  },
  {
   "cell_type": "code",
   "execution_count": 19,
   "metadata": {},
   "outputs": [
    {
     "data": {
      "text/plain": [
       "0      5354\n",
       "1       321\n",
       "2       108\n",
       "3        54\n",
       "4        25\n",
       "5         9\n",
       "6         8\n",
       "8         6\n",
       "7         4\n",
       "18        3\n",
       "13        2\n",
       "17        1\n",
       "12        1\n",
       "Name: Rating_count, dtype: int64"
      ]
     },
     "execution_count": 19,
     "metadata": {},
     "output_type": "execute_result"
    }
   ],
   "source": [
    "df_perfumes['Rating_count'].value_counts()"
   ]
  },
  {
   "cell_type": "code",
   "execution_count": 20,
   "metadata": {},
   "outputs": [
    {
     "data": {
      "text/html": [
       "<div>\n",
       "<style scoped>\n",
       "    .dataframe tbody tr th:only-of-type {\n",
       "        vertical-align: middle;\n",
       "    }\n",
       "\n",
       "    .dataframe tbody tr th {\n",
       "        vertical-align: top;\n",
       "    }\n",
       "\n",
       "    .dataframe thead th {\n",
       "        text-align: right;\n",
       "    }\n",
       "</style>\n",
       "<table border=\"1\" class=\"dataframe\">\n",
       "  <thead>\n",
       "    <tr style=\"text-align: right;\">\n",
       "      <th></th>\n",
       "      <th>Name</th>\n",
       "      <th>Price</th>\n",
       "      <th>Rate</th>\n",
       "      <th>Rating_count</th>\n",
       "      <th>Details</th>\n",
       "      <th>Brand</th>\n",
       "      <th>Gender</th>\n",
       "      <th>Product_Type</th>\n",
       "      <th>Character</th>\n",
       "      <th>Fragrance_Family</th>\n",
       "      <th>Size</th>\n",
       "      <th>Year</th>\n",
       "      <th>Ingredients</th>\n",
       "      <th>Concentration</th>\n",
       "      <th>Top_note</th>\n",
       "      <th>Middle_note</th>\n",
       "      <th>Base_note</th>\n",
       "    </tr>\n",
       "  </thead>\n",
       "  <tbody>\n",
       "    <tr>\n",
       "      <th>0</th>\n",
       "      <td>Dolce &amp; Gabanna L'imperatrice 3 Pour Femme</td>\n",
       "      <td>199 SAR</td>\n",
       "      <td>5</td>\n",
       "      <td>6</td>\n",
       "      <td>['Dolce&amp;Gabbana', 'Women', 'Perfume', 'Romanti...</td>\n",
       "      <td>Dolce&amp;Gabbana</td>\n",
       "      <td>Women</td>\n",
       "      <td>Perfume</td>\n",
       "      <td>Romantic</td>\n",
       "      <td>Floral</td>\n",
       "      <td>100 ml</td>\n",
       "      <td>2009</td>\n",
       "      <td>Watermerlon, Kiwi, Pink Cyclamen, Musk, Pink P...</td>\n",
       "      <td>Eau de Toilette</td>\n",
       "      <td>Pink pepper, kiwi, rhubarb</td>\n",
       "      <td>jasmine, cyclamen, watermelon</td>\n",
       "      <td>musk, sandalwood, lemon trees.</td>\n",
       "    </tr>\n",
       "    <tr>\n",
       "      <th>1</th>\n",
       "      <td>Roberto Cavalli Paradiso</td>\n",
       "      <td>169 SAR</td>\n",
       "      <td>4.95</td>\n",
       "      <td>17</td>\n",
       "      <td>['Roberto Cavalli', 'Women', 'Perfume', 'Chari...</td>\n",
       "      <td>Roberto Cavalli</td>\n",
       "      <td>Women</td>\n",
       "      <td>Perfume</td>\n",
       "      <td>Charismatic</td>\n",
       "      <td>Woody</td>\n",
       "      <td>50 ml</td>\n",
       "      <td>2015</td>\n",
       "      <td>Citrus, mandarin, bergamot, jasmine, pine, cyp...</td>\n",
       "      <td>Eau de Parfum</td>\n",
       "      <td>Citruses , Mandarin , Bergamot</td>\n",
       "      <td>Jasmine</td>\n",
       "      <td>Cypress, Parasol pine, Pink laurel</td>\n",
       "    </tr>\n",
       "  </tbody>\n",
       "</table>\n",
       "</div>"
      ],
      "text/plain": [
       "                                         Name    Price  Rate Rating_count  \\\n",
       "0  Dolce & Gabanna L'imperatrice 3 Pour Femme  199 SAR     5           6    \n",
       "1                    Roberto Cavalli Paradiso  169 SAR  4.95          17    \n",
       "\n",
       "                                             Details            Brand Gender  \\\n",
       "0  ['Dolce&Gabbana', 'Women', 'Perfume', 'Romanti...    Dolce&Gabbana  Women   \n",
       "1  ['Roberto Cavalli', 'Women', 'Perfume', 'Chari...  Roberto Cavalli  Women   \n",
       "\n",
       "  Product_Type    Character Fragrance_Family    Size  Year  \\\n",
       "0      Perfume     Romantic           Floral  100 ml  2009   \n",
       "1      Perfume  Charismatic            Woody   50 ml  2015   \n",
       "\n",
       "                                         Ingredients    Concentration  \\\n",
       "0  Watermerlon, Kiwi, Pink Cyclamen, Musk, Pink P...  Eau de Toilette   \n",
       "1  Citrus, mandarin, bergamot, jasmine, pine, cyp...    Eau de Parfum   \n",
       "\n",
       "                         Top_note                    Middle_note  \\\n",
       "0      Pink pepper, kiwi, rhubarb  jasmine, cyclamen, watermelon   \n",
       "1  Citruses , Mandarin , Bergamot                        Jasmine   \n",
       "\n",
       "                            Base_note  \n",
       "0      musk, sandalwood, lemon trees.  \n",
       "1  Cypress, Parasol pine, Pink laurel  "
      ]
     },
     "execution_count": 20,
     "metadata": {},
     "output_type": "execute_result"
    }
   ],
   "source": [
    "df_perfumes.head(2)"
   ]
  },
  {
   "cell_type": "markdown",
   "metadata": {},
   "source": [
    "**Check & Clean the Rate Attribute**"
   ]
  },
  {
   "cell_type": "code",
   "execution_count": 21,
   "metadata": {},
   "outputs": [
    {
     "data": {
      "text/plain": [
       "none    5354\n",
       "5        412\n",
       "4         33\n",
       "4.5       31\n",
       "3         10\n",
       "4.25       6\n",
       "3.5        6\n",
       "4.75       6\n",
       "4.67       4\n",
       "3.67       4\n",
       "1          4\n",
       "4.83       4\n",
       "4.6        4\n",
       "4.86       3\n",
       "4.93       3\n",
       "4.88       2\n",
       "4.38       2\n",
       "4.89       1\n",
       "4.92       1\n",
       "4.9        1\n",
       "4.8        1\n",
       "4.95       1\n",
       "4.42       1\n",
       "4.79       1\n",
       "3.33       1\n",
       "Name: Rate, dtype: int64"
      ]
     },
     "execution_count": 21,
     "metadata": {},
     "output_type": "execute_result"
    }
   ],
   "source": [
    "df_perfumes['Rate'].value_counts()"
   ]
  },
  {
   "cell_type": "code",
   "execution_count": 22,
   "metadata": {},
   "outputs": [],
   "source": [
    "df_perfumes['Rate'] = df_perfumes['Rate'].str.replace('none', 'No-Rate')"
   ]
  },
  {
   "cell_type": "markdown",
   "metadata": {},
   "source": [
    "**Check & Clean the Brand Attribute**"
   ]
  },
  {
   "cell_type": "code",
   "execution_count": 23,
   "metadata": {},
   "outputs": [],
   "source": [
    "#delete null value from Brand\n",
    "df_perfumes = df_perfumes[df_perfumes[\"Brand\"].str.contains(\"NaN\") == False]"
   ]
  },
  {
   "cell_type": "code",
   "execution_count": 24,
   "metadata": {},
   "outputs": [
    {
     "data": {
      "text/plain": [
       "Tous Les Jours    205\n",
       "Eau de Parfum     128\n",
       "Guerlain          126\n",
       "Tom Ford          100\n",
       "Chanel             98\n",
       "                 ... \n",
       "Carrera Jeans       1\n",
       "3 ml                1\n",
       "Caesars World       1\n",
       "Black Dust          1\n",
       "Parfums Grès        1\n",
       "Name: Brand, Length: 452, dtype: int64"
      ]
     },
     "execution_count": 24,
     "metadata": {},
     "output_type": "execute_result"
    }
   ],
   "source": [
    "#check the values not belongs to the Brand columns\n",
    "df_perfumes['Brand'].value_counts()"
   ]
  },
  {
   "cell_type": "code",
   "execution_count": 25,
   "metadata": {},
   "outputs": [],
   "source": [
    "#delete the values not belongs to the Brand columns\n",
    "df_perfumes = df_perfumes[df_perfumes[\"Brand\"].str.contains(\"Eau de Cologne\") == False]\n",
    "df_perfumes = df_perfumes[df_perfumes[\"Brand\"].str.contains(\"Eau de Parfum\") == False]\n",
    "df_perfumes = df_perfumes[df_perfumes[\"Brand\"].str.contains(\"Eau de Toilette\") == False]"
   ]
  },
  {
   "cell_type": "code",
   "execution_count": 26,
   "metadata": {},
   "outputs": [],
   "source": [
    "df_perfumes = df_perfumes[df_perfumes[\"Brand\"].str.contains(\"10 g\") == False]\n",
    "df_perfumes = df_perfumes[df_perfumes[\"Brand\"].str.contains(\"100 g\") == False]\n",
    "df_perfumes = df_perfumes[df_perfumes[\"Brand\"].str.contains(\"50 g\") == False]\n",
    "df_perfumes = df_perfumes[df_perfumes[\"Brand\"].str.contains(\"40 g\") == False]\n",
    "df_perfumes = df_perfumes[df_perfumes[\"Brand\"].str.contains(\"250 g\") == False]"
   ]
  },
  {
   "cell_type": "code",
   "execution_count": 27,
   "metadata": {},
   "outputs": [],
   "source": [
    "df_perfumes = df_perfumes[df_perfumes[\"Brand\"].str.contains(\"100 ml\")== False]\n",
    "df_perfumes = df_perfumes[df_perfumes[\"Brand\"].str.contains(\"3 ml\")== False]\n",
    "df_perfumes = df_perfumes[df_perfumes[\"Brand\"].str.contains(\"6 ml\")== False]\n",
    "df_perfumes = df_perfumes[df_perfumes[\"Brand\"].str.contains(\"12 ml\")== False]\n",
    "df_perfumes = df_perfumes[df_perfumes[\"Brand\"].str.contains(\"125 ml\")== False]\n",
    "df_perfumes = df_perfumes[df_perfumes[\"Brand\"].str.contains(\"150 ml\")== False]\n",
    "df_perfumes = df_perfumes[df_perfumes[\"Brand\"].str.contains(\"200 ml\")== False]\n",
    "df_perfumes = df_perfumes[df_perfumes[\"Brand\"].str.contains(\"25 ml\")== False]\n",
    "df_perfumes = df_perfumes[df_perfumes[\"Brand\"].str.contains(\"400 ml\")== False]\n",
    "df_perfumes = df_perfumes[df_perfumes[\"Brand\"].str.contains(\"50 ml\")== False]\n",
    "df_perfumes = df_perfumes[df_perfumes[\"Brand\"].str.contains(\"75 ml\")== False]\n",
    "df_perfumes = df_perfumes[df_perfumes[\"Brand\"].str.contains(\"90 ml\")== False]\n",
    "df_perfumes = df_perfumes[df_perfumes[\"Brand\"].str.contains(\"250 ml\")== False]\n",
    "df_perfumes = df_perfumes[df_perfumes[\"Brand\"].str.contains(\"30 ml\")== False]\n",
    "df_perfumes = df_perfumes[df_perfumes[\"Brand\"].str.contains(\"300 ml\")== False]\n",
    "df_perfumes = df_perfumes[df_perfumes[\"Brand\"].str.contains(\"40 ml\")== False]"
   ]
  },
  {
   "cell_type": "code",
   "execution_count": 28,
   "metadata": {},
   "outputs": [
    {
     "data": {
      "text/plain": [
       "Tous Les Jours    205\n",
       "Guerlain          126\n",
       "Tom Ford          100\n",
       "Chanel             98\n",
       "Bvlgari            97\n",
       "                 ... \n",
       "Caesars World       1\n",
       "Black Dust          1\n",
       "BCBG Max Azria      1\n",
       "Alyssa Ashley       1\n",
       "Parfums Grès        1\n",
       "Name: Brand, Length: 428, dtype: int64"
      ]
     },
     "execution_count": 28,
     "metadata": {},
     "output_type": "execute_result"
    }
   ],
   "source": [
    "#Check after delete the values not belongs to the Brand columns\n",
    "df_perfumes['Brand'].value_counts()"
   ]
  },
  {
   "cell_type": "markdown",
   "metadata": {},
   "source": [
    "**Check & Clean the Product Attribute**"
   ]
  },
  {
   "cell_type": "code",
   "execution_count": 29,
   "metadata": {},
   "outputs": [],
   "source": [
    "#delete null value from Product_Type\n",
    "df_perfumes = df_perfumes[df_perfumes[\"Product_Type\"].str.contains(\"NaN\") == False]"
   ]
  },
  {
   "cell_type": "code",
   "execution_count": 30,
   "metadata": {},
   "outputs": [
    {
     "data": {
      "text/plain": [
       "Name                   0\n",
       "Price                  0\n",
       "Rate                   0\n",
       "Rating_count           0\n",
       "Details                0\n",
       "Brand                  0\n",
       "Gender                 1\n",
       "Product_Type           0\n",
       "Character            185\n",
       "Fragrance_Family     130\n",
       "Size                 132\n",
       "Year                1123\n",
       "Ingredients          245\n",
       "Concentration        415\n",
       "Top_note             299\n",
       "Middle_note          502\n",
       "Base_note            611\n",
       "dtype: int64"
      ]
     },
     "execution_count": 30,
     "metadata": {},
     "output_type": "execute_result"
    }
   ],
   "source": [
    "NA_col = df_perfumes.isnull().sum()\n",
    "NA_col"
   ]
  },
  {
   "cell_type": "code",
   "execution_count": 31,
   "metadata": {},
   "outputs": [
    {
     "data": {
      "text/plain": [
       "Perfume                                 4493\n",
       "Perfume Oil                              116\n",
       "Hair Mist                                111\n",
       "Body Mist                                 79\n",
       "Perfume Set                               55\n",
       "Bundles                                   39\n",
       "Bakhoor                                   28\n",
       "Oud                                       22\n",
       "Oriental                                  20\n",
       "Candle                                    17\n",
       "Charismatic                               10\n",
       "Room Spray                                 9\n",
       "Diffuser                                   7\n",
       "Body Lotion                                4\n",
       "Perfume Set,Hair Mist                      4\n",
       "Extravagant                                3\n",
       "Sensual                                    3\n",
       "Deodorant                                  2\n",
       "Classical                                  2\n",
       "Eau De Parfum                              2\n",
       "Glamorous                                  2\n",
       "Mabkhara                                   2\n",
       "Diffuser ,Diffuser Refill                  1\n",
       "Home Fragrance Set                         1\n",
       "Unknown                                    1\n",
       "Perfume                                    1\n",
       "Feminine                                   1\n",
       "Diffuser ,Home Fragrance                   1\n",
       "Face Cream                                 1\n",
       "Perfume,Body Mist                          1\n",
       "Women                                      1\n",
       "Body Cream                                 1\n",
       "Omani Frankincense, lavender               1\n",
       "Omani Frankincense, Mukhallat Malaki       1\n",
       "Woody                                      1\n",
       "Woody Oriental                             1\n",
       "500 ml                                     1\n",
       "Sophisticated                              1\n",
       "Mist Bundle                                1\n",
       "Name: Product_Type, dtype: int64"
      ]
     },
     "execution_count": 31,
     "metadata": {},
     "output_type": "execute_result"
    }
   ],
   "source": [
    "#check the values not belongs to the Product_Type columns\n",
    "df_perfumes['Product_Type'].value_counts()"
   ]
  },
  {
   "cell_type": "code",
   "execution_count": 32,
   "metadata": {},
   "outputs": [],
   "source": [
    "#delete the values not belongs to the Product_Type columns\n",
    "df_perfumes = df_perfumes[df_perfumes[\"Product_Type\"].str.contains(\"Charismatic\") == False]\n",
    "counts = df_perfumes['Product_Type'].value_counts()\n",
    "df_perfumes = df_perfumes[~df_perfumes['Product_Type'].isin(counts[counts < 7].index)]"
   ]
  },
  {
   "cell_type": "code",
   "execution_count": 33,
   "metadata": {},
   "outputs": [
    {
     "data": {
      "text/plain": [
       "Perfume        4493\n",
       "Perfume Oil     116\n",
       "Hair Mist       111\n",
       "Body Mist        79\n",
       "Perfume Set      55\n",
       "Bundles          39\n",
       "Bakhoor          28\n",
       "Oud              22\n",
       "Oriental         20\n",
       "Candle           17\n",
       "Room Spray        9\n",
       "Diffuser          7\n",
       "Name: Product_Type, dtype: int64"
      ]
     },
     "execution_count": 33,
     "metadata": {},
     "output_type": "execute_result"
    }
   ],
   "source": [
    "#Check after delete the values not belongs to the Product_Type columns\n",
    "df_perfumes['Product_Type'].value_counts()"
   ]
  },
  {
   "cell_type": "markdown",
   "metadata": {},
   "source": [
    "**Check & Clean the Character Attribute**"
   ]
  },
  {
   "cell_type": "code",
   "execution_count": 34,
   "metadata": {},
   "outputs": [
    {
     "data": {
      "text/plain": [
       "Perfume        4493\n",
       "Perfume Oil     116\n",
       "Hair Mist       111\n",
       "Body Mist        79\n",
       "Perfume Set      55\n",
       "Bundles          39\n",
       "Bakhoor          28\n",
       "Oud              22\n",
       "Oriental         20\n",
       "Candle           17\n",
       "Room Spray        9\n",
       "Diffuser          7\n",
       "Name: Product_Type, dtype: int64"
      ]
     },
     "execution_count": 34,
     "metadata": {},
     "output_type": "execute_result"
    }
   ],
   "source": [
    "#Check after delete the values not belongs to the Product_Type columns\n",
    "df_perfumes['Product_Type'].value_counts()"
   ]
  },
  {
   "cell_type": "code",
   "execution_count": 35,
   "metadata": {},
   "outputs": [],
   "source": [
    "#delete null value from Character\n",
    "df_perfumes = df_perfumes[df_perfumes[\"Character\"].str.contains(\"NaN\") == False]"
   ]
  },
  {
   "cell_type": "code",
   "execution_count": 36,
   "metadata": {},
   "outputs": [
    {
     "data": {
      "text/plain": [
       "Charismatic                      916\n",
       "Natural                          832\n",
       "Extravagant                      642\n",
       "Romantic                         620\n",
       "Sensual                          467\n",
       "Feminine                         332\n",
       "Dynamic                          250\n",
       "Sophisticated                    195\n",
       "Glamorous                        183\n",
       "Modern                           157\n",
       "Classical                        148\n",
       "Masculine                         59\n",
       "100 ml                             9\n",
       "Floral                             3\n",
       "Oud                                2\n",
       "Masculine,Dynamic,Charismatic      2\n",
       "50 ml                              2\n",
       "Floral Oriental                    1\n",
       "Charismatic,Modern                 1\n",
       "Carismatic                         1\n",
       "sensual                            1\n",
       "natural                            1\n",
       "Unisex                             1\n",
       "Woody                              1\n",
       "250 ml                             1\n",
       "25 ml                              1\n",
       "Oriental                           1\n",
       "Name: Character, dtype: int64"
      ]
     },
     "execution_count": 36,
     "metadata": {},
     "output_type": "execute_result"
    }
   ],
   "source": [
    "#check the values not belongs to the Character columns\n",
    "df_perfumes['Character'].value_counts()"
   ]
  },
  {
   "cell_type": "code",
   "execution_count": 37,
   "metadata": {},
   "outputs": [],
   "source": [
    "#delete the values not belongs to the Character columns\n",
    "df_perfumes = df_perfumes[df_perfumes[\"Character\"].str.contains(\"25 ml\")== False]\n",
    "df_perfumes = df_perfumes[df_perfumes[\"Character\"].str.contains(\"50 ml\")== False]\n",
    "df_perfumes = df_perfumes[df_perfumes[\"Character\"].str.contains(\"100 ml\")== False]\n",
    "df_perfumes = df_perfumes[df_perfumes[\"Character\"].str.contains(\"250 ml\")== False]"
   ]
  },
  {
   "cell_type": "code",
   "execution_count": 38,
   "metadata": {},
   "outputs": [
    {
     "data": {
      "text/plain": [
       "Charismatic                      916\n",
       "Natural                          832\n",
       "Extravagant                      642\n",
       "Romantic                         620\n",
       "Sensual                          467\n",
       "Feminine                         332\n",
       "Dynamic                          250\n",
       "Sophisticated                    195\n",
       "Glamorous                        183\n",
       "Modern                           157\n",
       "Classical                        148\n",
       "Masculine                         59\n",
       "Floral                             3\n",
       "Oud                                2\n",
       "Masculine,Dynamic,Charismatic      2\n",
       "Charismatic,Modern                 1\n",
       "Carismatic                         1\n",
       "sensual                            1\n",
       "Floral Oriental                    1\n",
       "natural                            1\n",
       "Unisex                             1\n",
       "Woody                              1\n",
       "Oriental                           1\n",
       "Name: Character, dtype: int64"
      ]
     },
     "execution_count": 38,
     "metadata": {},
     "output_type": "execute_result"
    }
   ],
   "source": [
    "#Check after delete the values not belongs to the Character columns\n",
    "df_perfumes['Character'].value_counts()"
   ]
  },
  {
   "cell_type": "markdown",
   "metadata": {},
   "source": [
    "**Check & Clean the Price Attribute**"
   ]
  },
  {
   "cell_type": "markdown",
   "metadata": {},
   "source": [
    "Check Entries that Dont contain SAR"
   ]
  },
  {
   "cell_type": "code",
   "execution_count": 39,
   "metadata": {},
   "outputs": [
    {
     "data": {
      "text/html": [
       "<div>\n",
       "<style scoped>\n",
       "    .dataframe tbody tr th:only-of-type {\n",
       "        vertical-align: middle;\n",
       "    }\n",
       "\n",
       "    .dataframe tbody tr th {\n",
       "        vertical-align: top;\n",
       "    }\n",
       "\n",
       "    .dataframe thead th {\n",
       "        text-align: right;\n",
       "    }\n",
       "</style>\n",
       "<table border=\"1\" class=\"dataframe\">\n",
       "  <thead>\n",
       "    <tr style=\"text-align: right;\">\n",
       "      <th></th>\n",
       "      <th>Name</th>\n",
       "      <th>Price</th>\n",
       "      <th>Rate</th>\n",
       "      <th>Rating_count</th>\n",
       "      <th>Details</th>\n",
       "      <th>Brand</th>\n",
       "      <th>Gender</th>\n",
       "      <th>Product_Type</th>\n",
       "      <th>Character</th>\n",
       "      <th>Fragrance_Family</th>\n",
       "      <th>Size</th>\n",
       "      <th>Year</th>\n",
       "      <th>Ingredients</th>\n",
       "      <th>Concentration</th>\n",
       "      <th>Top_note</th>\n",
       "      <th>Middle_note</th>\n",
       "      <th>Base_note</th>\n",
       "    </tr>\n",
       "  </thead>\n",
       "  <tbody>\n",
       "    <tr>\n",
       "      <th>133</th>\n",
       "      <td>none</td>\n",
       "      <td>none</td>\n",
       "      <td>No-Rate</td>\n",
       "      <td>0</td>\n",
       "      <td>['Atelier Des Ors', 'Unisex', 'Perfume', 'Glam...</td>\n",
       "      <td>Atelier Des Ors</td>\n",
       "      <td>Unisex</td>\n",
       "      <td>Perfume</td>\n",
       "      <td>Glamorous</td>\n",
       "      <td>Oriental</td>\n",
       "      <td>100 ml</td>\n",
       "      <td>2015</td>\n",
       "      <td>Pink pepper, cardamom, cinnamon, strex, amber,...</td>\n",
       "      <td>Eau de Parfum</td>\n",
       "      <td>Pink pepper, cardamom, cinnamon</td>\n",
       "      <td>Strix, amber, woods, cedar, green leaves</td>\n",
       "      <td>Musk, Peruvian Conditioner, Vanilla</td>\n",
       "    </tr>\n",
       "    <tr>\n",
       "      <th>136</th>\n",
       "      <td>none</td>\n",
       "      <td>none</td>\n",
       "      <td>No-Rate</td>\n",
       "      <td>0</td>\n",
       "      <td>['Giorgio Armani', 'Men', 'Perfume', 'Feminine...</td>\n",
       "      <td>Giorgio Armani</td>\n",
       "      <td>Men</td>\n",
       "      <td>Perfume</td>\n",
       "      <td>Feminine</td>\n",
       "      <td>Aromatic</td>\n",
       "      <td>100 ml</td>\n",
       "      <td>2017</td>\n",
       "      <td>Cardamom, Pink Pepper, Violet Leaves, Sage, Sh...</td>\n",
       "      <td>Eau de Toilette</td>\n",
       "      <td>Cardamom, Pink pepper, Violet leaf</td>\n",
       "      <td>Sage</td>\n",
       "      <td>Chestnut, Vanilla</td>\n",
       "    </tr>\n",
       "    <tr>\n",
       "      <th>137</th>\n",
       "      <td>none</td>\n",
       "      <td>none</td>\n",
       "      <td>No-Rate</td>\n",
       "      <td>0</td>\n",
       "      <td>['Coach', 'Women', 'Perfume', 'Feminine', 'Woo...</td>\n",
       "      <td>Coach</td>\n",
       "      <td>Women</td>\n",
       "      <td>Perfume</td>\n",
       "      <td>Feminine</td>\n",
       "      <td>Woody</td>\n",
       "      <td>50 ml</td>\n",
       "      <td>2017</td>\n",
       "      <td>Rasepberry Leaf, Pink Pepper, Pear,Turkish Ros...</td>\n",
       "      <td>Eau de Parfum</td>\n",
       "      <td>Rasepberry Leaf, Pink Pepper, Pear</td>\n",
       "      <td>Turkish Rose</td>\n",
       "      <td>Musk, Sandalwood</td>\n",
       "    </tr>\n",
       "    <tr>\n",
       "      <th>855</th>\n",
       "      <td>none</td>\n",
       "      <td>none</td>\n",
       "      <td>5</td>\n",
       "      <td>1</td>\n",
       "      <td>['Moschino', 'Women', 'Perfume', 'Glamorous', ...</td>\n",
       "      <td>Moschino</td>\n",
       "      <td>Women</td>\n",
       "      <td>Perfume</td>\n",
       "      <td>Glamorous</td>\n",
       "      <td>Floral</td>\n",
       "      <td>50 ml</td>\n",
       "      <td>2013</td>\n",
       "      <td>Orange, Grapefruit, Red Currant, Lemon,Tea Ros...</td>\n",
       "      <td>Eau de Toilette</td>\n",
       "      <td>Orange, Grapefruit, Red Currant, Lemon</td>\n",
       "      <td>Tea Rose, Bulrush, Lily-of-the-Valley, Sugar C...</td>\n",
       "      <td>Musk, Cedar, Woody Notes</td>\n",
       "    </tr>\n",
       "  </tbody>\n",
       "</table>\n",
       "</div>"
      ],
      "text/plain": [
       "     Name Price     Rate Rating_count  \\\n",
       "133  none  none  No-Rate            0   \n",
       "136  none  none  No-Rate            0   \n",
       "137  none  none  No-Rate            0   \n",
       "855  none  none        5           1    \n",
       "\n",
       "                                               Details            Brand  \\\n",
       "133  ['Atelier Des Ors', 'Unisex', 'Perfume', 'Glam...  Atelier Des Ors   \n",
       "136  ['Giorgio Armani', 'Men', 'Perfume', 'Feminine...   Giorgio Armani   \n",
       "137  ['Coach', 'Women', 'Perfume', 'Feminine', 'Woo...            Coach   \n",
       "855  ['Moschino', 'Women', 'Perfume', 'Glamorous', ...         Moschino   \n",
       "\n",
       "     Gender Product_Type  Character Fragrance_Family    Size  Year  \\\n",
       "133  Unisex      Perfume  Glamorous         Oriental  100 ml  2015   \n",
       "136     Men      Perfume   Feminine         Aromatic  100 ml  2017   \n",
       "137   Women      Perfume   Feminine            Woody   50 ml  2017   \n",
       "855   Women      Perfume  Glamorous           Floral   50 ml  2013   \n",
       "\n",
       "                                           Ingredients    Concentration  \\\n",
       "133  Pink pepper, cardamom, cinnamon, strex, amber,...    Eau de Parfum   \n",
       "136  Cardamom, Pink Pepper, Violet Leaves, Sage, Sh...  Eau de Toilette   \n",
       "137  Rasepberry Leaf, Pink Pepper, Pear,Turkish Ros...    Eau de Parfum   \n",
       "855  Orange, Grapefruit, Red Currant, Lemon,Tea Ros...  Eau de Toilette   \n",
       "\n",
       "                                   Top_note  \\\n",
       "133         Pink pepper, cardamom, cinnamon   \n",
       "136      Cardamom, Pink pepper, Violet leaf   \n",
       "137      Rasepberry Leaf, Pink Pepper, Pear   \n",
       "855  Orange, Grapefruit, Red Currant, Lemon   \n",
       "\n",
       "                                           Middle_note  \\\n",
       "133           Strix, amber, woods, cedar, green leaves   \n",
       "136                                               Sage   \n",
       "137                                       Turkish Rose   \n",
       "855  Tea Rose, Bulrush, Lily-of-the-Valley, Sugar C...   \n",
       "\n",
       "                               Base_note  \n",
       "133  Musk, Peruvian Conditioner, Vanilla  \n",
       "136                    Chestnut, Vanilla  \n",
       "137                     Musk, Sandalwood  \n",
       "855             Musk, Cedar, Woody Notes  "
      ]
     },
     "execution_count": 39,
     "metadata": {},
     "output_type": "execute_result"
    }
   ],
   "source": [
    "df_perfumes[~df_perfumes['Price'].str.contains('SAR')]"
   ]
  },
  {
   "cell_type": "markdown",
   "metadata": {},
   "source": [
    "Remove the String 'SAR' from the Price Attribute"
   ]
  },
  {
   "cell_type": "code",
   "execution_count": 40,
   "metadata": {},
   "outputs": [],
   "source": [
    "df_perfumes['Price']= df_perfumes['Price'].str.replace('SAR', '')"
   ]
  },
  {
   "cell_type": "markdown",
   "metadata": {},
   "source": [
    "**Check & Clean the Fragrance Family Attribute**"
   ]
  },
  {
   "cell_type": "code",
   "execution_count": 41,
   "metadata": {},
   "outputs": [
    {
     "data": {
      "text/plain": [
       "Floral                           1203\n",
       "Oriental                          809\n",
       "Woody                             649\n",
       "Aromatic                          432\n",
       "Fruity                            332\n",
       "Citrus                            318\n",
       "Floral Oriental                   292\n",
       "Woody Oriental                    180\n",
       "Leather                           110\n",
       "Woody,Woody                        86\n",
       "Oud                                73\n",
       "Soft Floral                        70\n",
       "Aquatic                            53\n",
       "Arabian                            41\n",
       "Soft Oriental                      33\n",
       "Chypre                             16\n",
       "Green                              14\n",
       "Floral,Fruity                      11\n",
       "Floral,Woody                        8\n",
       "Floral,Oriental                     7\n",
       "55 ml                               7\n",
       "Mossy Woods                         5\n",
       "Oriental,Leather                    5\n",
       "Oriental,Chypre                     4\n",
       "Aromatic,Woody                      4\n",
       "100 ml                              4\n",
       "Oriental,Woody                      3\n",
       "Musky                               3\n",
       "Sweet                               3\n",
       "Fruity,Woody                        2\n",
       "Fruity,Chypre                       2\n",
       "Floral,Musky                        2\n",
       "75 ml                               1\n",
       "Aromatic,Oriental                   1\n",
       "Oud powder- amber - fragrance       1\n",
       "50 ml                               1\n",
       "Woody,Floral Oriental               1\n",
       "Perfume                             1\n",
       "Floral Woody                        1\n",
       "Floral,Aromatic                     1\n",
       "Floral,Chypre                       1\n",
       "Chypre,Floral Oriental              1\n",
       "Floral,Citrus                       1\n",
       "Frui                                1\n",
       "Name: Fragrance_Family, dtype: int64"
      ]
     },
     "execution_count": 41,
     "metadata": {},
     "output_type": "execute_result"
    }
   ],
   "source": [
    "df_perfumes.Fragrance_Family.value_counts()"
   ]
  },
  {
   "cell_type": "code",
   "execution_count": 42,
   "metadata": {},
   "outputs": [
    {
     "data": {
      "text/plain": [
       "23"
      ]
     },
     "execution_count": 42,
     "metadata": {},
     "output_type": "execute_result"
    }
   ],
   "source": [
    "df_perfumes.Fragrance_Family.isna().sum()"
   ]
  },
  {
   "cell_type": "code",
   "execution_count": 43,
   "metadata": {},
   "outputs": [
    {
     "data": {
      "text/html": [
       "<div>\n",
       "<style scoped>\n",
       "    .dataframe tbody tr th:only-of-type {\n",
       "        vertical-align: middle;\n",
       "    }\n",
       "\n",
       "    .dataframe tbody tr th {\n",
       "        vertical-align: top;\n",
       "    }\n",
       "\n",
       "    .dataframe thead th {\n",
       "        text-align: right;\n",
       "    }\n",
       "</style>\n",
       "<table border=\"1\" class=\"dataframe\">\n",
       "  <thead>\n",
       "    <tr style=\"text-align: right;\">\n",
       "      <th></th>\n",
       "      <th>Name</th>\n",
       "      <th>Price</th>\n",
       "      <th>Rate</th>\n",
       "      <th>Rating_count</th>\n",
       "      <th>Details</th>\n",
       "      <th>Brand</th>\n",
       "      <th>Gender</th>\n",
       "      <th>Product_Type</th>\n",
       "      <th>Character</th>\n",
       "      <th>Fragrance_Family</th>\n",
       "      <th>Size</th>\n",
       "      <th>Year</th>\n",
       "      <th>Ingredients</th>\n",
       "      <th>Concentration</th>\n",
       "      <th>Top_note</th>\n",
       "      <th>Middle_note</th>\n",
       "      <th>Base_note</th>\n",
       "    </tr>\n",
       "  </thead>\n",
       "  <tbody>\n",
       "    <tr>\n",
       "      <th>25</th>\n",
       "      <td>Very Important Notes No 2 EDP - Saffron, Bulga...</td>\n",
       "      <td>295</td>\n",
       "      <td>5</td>\n",
       "      <td>1</td>\n",
       "      <td>['Very Important Notes', 'Unisex', 'Perfume', ...</td>\n",
       "      <td>Very Important Notes</td>\n",
       "      <td>Unisex</td>\n",
       "      <td>Perfume</td>\n",
       "      <td>Floral Oriental</td>\n",
       "      <td>NaN</td>\n",
       "      <td>2020</td>\n",
       "      <td>NaN</td>\n",
       "      <td>Saffron, Pepper ,Rose ,Oud, Amber</td>\n",
       "      <td>Eau de Parfum</td>\n",
       "      <td>Saffron, Pepper</td>\n",
       "      <td>Rose</td>\n",
       "      <td>Oud, Amber</td>\n",
       "    </tr>\n",
       "    <tr>\n",
       "      <th>28</th>\n",
       "      <td>Givenchy L' Interdit</td>\n",
       "      <td>362</td>\n",
       "      <td>No-Rate</td>\n",
       "      <td>0</td>\n",
       "      <td>['Givenchy', 'Women', 'Perfume', 'Romantic', '...</td>\n",
       "      <td>Givenchy</td>\n",
       "      <td>Women</td>\n",
       "      <td>Perfume</td>\n",
       "      <td>Romantic</td>\n",
       "      <td>NaN</td>\n",
       "      <td>2016</td>\n",
       "      <td>NaN</td>\n",
       "      <td>Orange Blossom, Jasmine And Tuberose, Vetiver ...</td>\n",
       "      <td>Eau de Parfum</td>\n",
       "      <td>Orange Blossom</td>\n",
       "      <td>Jasmine And Tuberose</td>\n",
       "      <td>Vetiver And Patchouli</td>\n",
       "    </tr>\n",
       "    <tr>\n",
       "      <th>129</th>\n",
       "      <td>Coach For Men</td>\n",
       "      <td>226</td>\n",
       "      <td>No-Rate</td>\n",
       "      <td>0</td>\n",
       "      <td>['Coach', 'Men', 'Perfume', 'Masculine', '100 ...</td>\n",
       "      <td>Coach</td>\n",
       "      <td>Men</td>\n",
       "      <td>Perfume</td>\n",
       "      <td>Masculine</td>\n",
       "      <td>NaN</td>\n",
       "      <td>100 ml</td>\n",
       "      <td>NaN</td>\n",
       "      <td>Pear, Bergamot, Kumquat, Grapefruit, Lavender,...</td>\n",
       "      <td>Eau de Toilette</td>\n",
       "      <td>Bergamot, Kumquat, Pear</td>\n",
       "      <td>Geranium, Cardamom, Coriander (Cilantro)</td>\n",
       "      <td>Ambergris, Suede, Haitian Vetiver</td>\n",
       "    </tr>\n",
       "    <tr>\n",
       "      <th>217</th>\n",
       "      <td>Franck Olivier Franck Olivier</td>\n",
       "      <td>104</td>\n",
       "      <td>No-Rate</td>\n",
       "      <td>0</td>\n",
       "      <td>['Franck Olivier', 'Women', 'Perfume', 'Charis...</td>\n",
       "      <td>Franck Olivier</td>\n",
       "      <td>Women</td>\n",
       "      <td>Perfume</td>\n",
       "      <td>Charismatic</td>\n",
       "      <td>NaN</td>\n",
       "      <td>75 ml</td>\n",
       "      <td>NaN</td>\n",
       "      <td>Grapefruit, Peach, Black Currant, Plum, Jasmin...</td>\n",
       "      <td>Eau de Parfum</td>\n",
       "      <td>Grapefruit, Plum, Black Currant, Peach</td>\n",
       "      <td>Jasmine, Rose, Ylang-Ylang, Heliotrope</td>\n",
       "      <td>Musk, Sandalwood, Vanilla</td>\n",
       "    </tr>\n",
       "    <tr>\n",
       "      <th>328</th>\n",
       "      <td>Elizabeth Arden 5Th Avenue</td>\n",
       "      <td>145</td>\n",
       "      <td>5</td>\n",
       "      <td>2</td>\n",
       "      <td>['Elizabeth Arden', 'Women', 'Perfume', 'Natur...</td>\n",
       "      <td>Elizabeth Arden</td>\n",
       "      <td>Women</td>\n",
       "      <td>Perfume</td>\n",
       "      <td>Natural</td>\n",
       "      <td>NaN</td>\n",
       "      <td>125 ml</td>\n",
       "      <td>NaN</td>\n",
       "      <td>Amber, Sandalwood, Lily of the Valley, Ylang-Y...</td>\n",
       "      <td>Eau de Parfum</td>\n",
       "      <td>Bergamot, Lilac, Linden blossom, Magnolia, Lil...</td>\n",
       "      <td>Bulgarian rose, Violet, Ylang-ylang, Jasmine, ...</td>\n",
       "      <td>Amber, Iris, Tibetan musk, Sandalwood, Vanilla</td>\n",
       "    </tr>\n",
       "    <tr>\n",
       "      <th>362</th>\n",
       "      <td>Givenchy Gentlemen Only Absolute</td>\n",
       "      <td>358</td>\n",
       "      <td>No-Rate</td>\n",
       "      <td>0</td>\n",
       "      <td>['Givenchy', 'Men', 'Perfume', 'Natural', '50 ...</td>\n",
       "      <td>Givenchy</td>\n",
       "      <td>Men</td>\n",
       "      <td>Perfume</td>\n",
       "      <td>Natural</td>\n",
       "      <td>NaN</td>\n",
       "      <td>50 ml</td>\n",
       "      <td>NaN</td>\n",
       "      <td>Bergamot,Cinnamon, Saffron, Nutmeg,Vanilla, Sa...</td>\n",
       "      <td>Eau de Parfum</td>\n",
       "      <td>Bergamot</td>\n",
       "      <td>Cinnamon, Saffron, Nutmeg</td>\n",
       "      <td>Vanilla, Sandalwood</td>\n",
       "    </tr>\n",
       "    <tr>\n",
       "      <th>556</th>\n",
       "      <td>Dior Joy</td>\n",
       "      <td>695</td>\n",
       "      <td>No-Rate</td>\n",
       "      <td>0</td>\n",
       "      <td>['Dior', 'Women', 'Perfume', 'Glamorous', '90 ...</td>\n",
       "      <td>Dior</td>\n",
       "      <td>Women</td>\n",
       "      <td>Perfume</td>\n",
       "      <td>Glamorous</td>\n",
       "      <td>NaN</td>\n",
       "      <td>90 ml</td>\n",
       "      <td>2012</td>\n",
       "      <td>Bergamot, Mandarin Orange,Jasmine, Grasse Rose...</td>\n",
       "      <td>Eau de Parfum</td>\n",
       "      <td>Bergamot, Mandarin Orange</td>\n",
       "      <td>Jasmine, Grasse Rose</td>\n",
       "      <td>Cedar, Patchouli, Sandalwood, White Musk</td>\n",
       "    </tr>\n",
       "    <tr>\n",
       "      <th>640</th>\n",
       "      <td>Parfums Gres Cabotine Gold</td>\n",
       "      <td>115</td>\n",
       "      <td>No-Rate</td>\n",
       "      <td>0</td>\n",
       "      <td>['Parfums GrÃ¨s', 'Women', 'Perfume', 'Feminin...</td>\n",
       "      <td>Parfums GrÃ¨s</td>\n",
       "      <td>Women</td>\n",
       "      <td>Perfume</td>\n",
       "      <td>Feminine</td>\n",
       "      <td>NaN</td>\n",
       "      <td>100 ml</td>\n",
       "      <td>2013</td>\n",
       "      <td>Melon, Pink Pepper, Mandarin Orange ,Peony, Ti...</td>\n",
       "      <td>Eau de Parfum</td>\n",
       "      <td>Melon, Pink Pepper, Mandarin Orange</td>\n",
       "      <td>Peony, Tiare Flower, Jasmine</td>\n",
       "      <td>Amber, Vetiver, Patchouli</td>\n",
       "    </tr>\n",
       "    <tr>\n",
       "      <th>3246</th>\n",
       "      <td>Givenchy Eclats Precieux Limited Edition</td>\n",
       "      <td>295</td>\n",
       "      <td>No-Rate</td>\n",
       "      <td>0</td>\n",
       "      <td>['Givenchy', 'Women', 'Perfume', 'Feminine', '...</td>\n",
       "      <td>Givenchy</td>\n",
       "      <td>Women</td>\n",
       "      <td>Perfume</td>\n",
       "      <td>Feminine</td>\n",
       "      <td>NaN</td>\n",
       "      <td>50 ml</td>\n",
       "      <td>NaN</td>\n",
       "      <td>NaN</td>\n",
       "      <td>Eau de Toilette</td>\n",
       "      <td>NaN</td>\n",
       "      <td>NaN</td>\n",
       "      <td>NaN</td>\n",
       "    </tr>\n",
       "    <tr>\n",
       "      <th>3256</th>\n",
       "      <td>Givenchy Ange Ou Etrange</td>\n",
       "      <td>360</td>\n",
       "      <td>No-Rate</td>\n",
       "      <td>0</td>\n",
       "      <td>['Givenchy', 'Women', 'Perfume', 'Feminine']</td>\n",
       "      <td>Givenchy</td>\n",
       "      <td>Women</td>\n",
       "      <td>Perfume</td>\n",
       "      <td>Feminine</td>\n",
       "      <td>NaN</td>\n",
       "      <td>NaN</td>\n",
       "      <td>NaN</td>\n",
       "      <td>NaN</td>\n",
       "      <td>NaN</td>\n",
       "      <td>NaN</td>\n",
       "      <td>NaN</td>\n",
       "      <td>NaN</td>\n",
       "    </tr>\n",
       "    <tr>\n",
       "      <th>3257</th>\n",
       "      <td>Givenchy Play For Her EDP</td>\n",
       "      <td>345</td>\n",
       "      <td>No-Rate</td>\n",
       "      <td>0</td>\n",
       "      <td>['Givenchy', 'Women', 'Perfume', 'Feminine']</td>\n",
       "      <td>Givenchy</td>\n",
       "      <td>Women</td>\n",
       "      <td>Perfume</td>\n",
       "      <td>Feminine</td>\n",
       "      <td>NaN</td>\n",
       "      <td>NaN</td>\n",
       "      <td>NaN</td>\n",
       "      <td>NaN</td>\n",
       "      <td>NaN</td>\n",
       "      <td>NaN</td>\n",
       "      <td>NaN</td>\n",
       "      <td>NaN</td>\n",
       "    </tr>\n",
       "    <tr>\n",
       "      <th>3530</th>\n",
       "      <td>Dolce &amp; Gabanna L'imperatrice 3 Pour Femme</td>\n",
       "      <td>199</td>\n",
       "      <td>5</td>\n",
       "      <td>6</td>\n",
       "      <td>['Dolce&amp;Gabbana', 'Women', 'Perfume', 'Romanti...</td>\n",
       "      <td>Dolce&amp;Gabbana</td>\n",
       "      <td>Women</td>\n",
       "      <td>Perfume</td>\n",
       "      <td>Romantic</td>\n",
       "      <td>NaN</td>\n",
       "      <td>NaN</td>\n",
       "      <td>NaN</td>\n",
       "      <td>NaN</td>\n",
       "      <td>NaN</td>\n",
       "      <td>NaN</td>\n",
       "      <td>NaN</td>\n",
       "      <td>NaN</td>\n",
       "    </tr>\n",
       "    <tr>\n",
       "      <th>3533</th>\n",
       "      <td>The Finest Oud EDP - 100 ml</td>\n",
       "      <td>209</td>\n",
       "      <td>5</td>\n",
       "      <td>1</td>\n",
       "      <td>['The Finest', 'Unisex', 'Perfume', 'Charismat...</td>\n",
       "      <td>The Finest</td>\n",
       "      <td>Unisex</td>\n",
       "      <td>Perfume</td>\n",
       "      <td>Charismatic</td>\n",
       "      <td>NaN</td>\n",
       "      <td>100 ml</td>\n",
       "      <td>NaN</td>\n",
       "      <td>NaN</td>\n",
       "      <td>NaN</td>\n",
       "      <td>NaN</td>\n",
       "      <td>NaN</td>\n",
       "      <td>NaN</td>\n",
       "    </tr>\n",
       "    <tr>\n",
       "      <th>3537</th>\n",
       "      <td>Jean Paul Gaultier So Scandal!</td>\n",
       "      <td>440</td>\n",
       "      <td>5</td>\n",
       "      <td>1</td>\n",
       "      <td>['Jean Paul Gaultier', 'Women', 'Perfume', 'Fl...</td>\n",
       "      <td>Jean Paul Gaultier</td>\n",
       "      <td>Women</td>\n",
       "      <td>Perfume</td>\n",
       "      <td>Floral</td>\n",
       "      <td>NaN</td>\n",
       "      <td>80 ml</td>\n",
       "      <td>2020</td>\n",
       "      <td>Orange Blossom, Jasmine Tuberose</td>\n",
       "      <td>NaN</td>\n",
       "      <td>Orange Blossom</td>\n",
       "      <td>Jasmine Tuberose</td>\n",
       "      <td>NaN</td>\n",
       "    </tr>\n",
       "    <tr>\n",
       "      <th>3556</th>\n",
       "      <td>Mancera Red Tobacco</td>\n",
       "      <td>499</td>\n",
       "      <td>4.38</td>\n",
       "      <td>8</td>\n",
       "      <td>['Mancera', 'Unisex', 'Perfume', 'Charismatic']</td>\n",
       "      <td>Mancera</td>\n",
       "      <td>Unisex</td>\n",
       "      <td>Perfume</td>\n",
       "      <td>Charismatic</td>\n",
       "      <td>NaN</td>\n",
       "      <td>NaN</td>\n",
       "      <td>NaN</td>\n",
       "      <td>NaN</td>\n",
       "      <td>NaN</td>\n",
       "      <td>NaN</td>\n",
       "      <td>NaN</td>\n",
       "      <td>NaN</td>\n",
       "    </tr>\n",
       "    <tr>\n",
       "      <th>3706</th>\n",
       "      <td>Hermes Eau Des Merveilles Bleue Gift Set (EDT ...</td>\n",
       "      <td>717</td>\n",
       "      <td>No-Rate</td>\n",
       "      <td>0</td>\n",
       "      <td>['Eau de Toilette', 'Hermes', 'Women', 'Perfum...</td>\n",
       "      <td>Hermes</td>\n",
       "      <td>Women</td>\n",
       "      <td>Perfume Set</td>\n",
       "      <td>Natural</td>\n",
       "      <td>NaN</td>\n",
       "      <td>40 ml)</td>\n",
       "      <td>NaN</td>\n",
       "      <td>Juniper berry, Patchouli, Mineral stone</td>\n",
       "      <td>Eau de Toilette</td>\n",
       "      <td>Juniper berry</td>\n",
       "      <td>Patchouli</td>\n",
       "      <td>Mineral stone</td>\n",
       "    </tr>\n",
       "    <tr>\n",
       "      <th>3870</th>\n",
       "      <td>Chopard Wish Pink</td>\n",
       "      <td>135</td>\n",
       "      <td>No-Rate</td>\n",
       "      <td>0</td>\n",
       "      <td>['Chopard', 'Women', 'Perfume', 'Romantic']</td>\n",
       "      <td>Chopard</td>\n",
       "      <td>Women</td>\n",
       "      <td>Perfume</td>\n",
       "      <td>Romantic</td>\n",
       "      <td>NaN</td>\n",
       "      <td>NaN</td>\n",
       "      <td>NaN</td>\n",
       "      <td>NaN</td>\n",
       "      <td>NaN</td>\n",
       "      <td>NaN</td>\n",
       "      <td>NaN</td>\n",
       "      <td>NaN</td>\n",
       "    </tr>\n",
       "    <tr>\n",
       "      <th>3964</th>\n",
       "      <td>Fendi Fan Di Fendi Assoluto</td>\n",
       "      <td>356</td>\n",
       "      <td>3</td>\n",
       "      <td>1</td>\n",
       "      <td>['Fan di Fendi', 'Men', 'Perfume', 'Natural']</td>\n",
       "      <td>Fan di Fendi</td>\n",
       "      <td>Men</td>\n",
       "      <td>Perfume</td>\n",
       "      <td>Natural</td>\n",
       "      <td>NaN</td>\n",
       "      <td>NaN</td>\n",
       "      <td>NaN</td>\n",
       "      <td>NaN</td>\n",
       "      <td>NaN</td>\n",
       "      <td>NaN</td>\n",
       "      <td>NaN</td>\n",
       "      <td>NaN</td>\n",
       "    </tr>\n",
       "    <tr>\n",
       "      <th>3994</th>\n",
       "      <td>Jo Malone Jasmine Sambac &amp; Marigold Intense EDC</td>\n",
       "      <td>704</td>\n",
       "      <td>No-Rate</td>\n",
       "      <td>0</td>\n",
       "      <td>['Jo Malone', 'Women', 'Perfume', 'Sensual', '']</td>\n",
       "      <td>Jo Malone</td>\n",
       "      <td>Women</td>\n",
       "      <td>Perfume</td>\n",
       "      <td>Sensual</td>\n",
       "      <td>NaN</td>\n",
       "      <td>NaN</td>\n",
       "      <td>NaN</td>\n",
       "      <td>NaN</td>\n",
       "      <td>NaN</td>\n",
       "      <td>NaN</td>\n",
       "      <td>NaN</td>\n",
       "      <td>NaN</td>\n",
       "    </tr>\n",
       "    <tr>\n",
       "      <th>4046</th>\n",
       "      <td>Kenzo Jungle L'Elephant</td>\n",
       "      <td>353</td>\n",
       "      <td>No-Rate</td>\n",
       "      <td>0</td>\n",
       "      <td>['Kenzo', 'Women', 'Perfume', 'Charismatic', '']</td>\n",
       "      <td>Kenzo</td>\n",
       "      <td>Women</td>\n",
       "      <td>Perfume</td>\n",
       "      <td>Charismatic</td>\n",
       "      <td>NaN</td>\n",
       "      <td>NaN</td>\n",
       "      <td>NaN</td>\n",
       "      <td>NaN</td>\n",
       "      <td>NaN</td>\n",
       "      <td>NaN</td>\n",
       "      <td>NaN</td>\n",
       "      <td>NaN</td>\n",
       "    </tr>\n",
       "    <tr>\n",
       "      <th>4117</th>\n",
       "      <td>LancÃ´me La Nuit Tresor A La Folie L'Eau</td>\n",
       "      <td>441</td>\n",
       "      <td>No-Rate</td>\n",
       "      <td>0</td>\n",
       "      <td>['Lancome', 'Women', 'Perfume', 'Charismatic',...</td>\n",
       "      <td>Lancome</td>\n",
       "      <td>Women</td>\n",
       "      <td>Perfume</td>\n",
       "      <td>Charismatic</td>\n",
       "      <td>NaN</td>\n",
       "      <td>Folie L'Eau</td>\n",
       "      <td>NaN</td>\n",
       "      <td>, ,</td>\n",
       "      <td>NaN</td>\n",
       "      <td>,</td>\n",
       "      <td>NaN</td>\n",
       "      <td>NaN</td>\n",
       "    </tr>\n",
       "    <tr>\n",
       "      <th>4125</th>\n",
       "      <td>Lancome Maison RÃ´ses Berberanza</td>\n",
       "      <td>950</td>\n",
       "      <td>No-Rate</td>\n",
       "      <td>0</td>\n",
       "      <td>['Lancome', 'Unisex', 'Perfume', 'Natural']</td>\n",
       "      <td>Lancome</td>\n",
       "      <td>Unisex</td>\n",
       "      <td>Perfume</td>\n",
       "      <td>Natural</td>\n",
       "      <td>NaN</td>\n",
       "      <td>RÃ´ses Berberanza</td>\n",
       "      <td>NaN</td>\n",
       "      <td>, ,</td>\n",
       "      <td>NaN</td>\n",
       "      <td>,</td>\n",
       "      <td>NaN</td>\n",
       "      <td>NaN</td>\n",
       "    </tr>\n",
       "    <tr>\n",
       "      <th>4639</th>\n",
       "      <td>Sainte Valere Vera EDP</td>\n",
       "      <td>65</td>\n",
       "      <td>No-Rate</td>\n",
       "      <td>0</td>\n",
       "      <td>['Roja', 'Women', 'Perfume', 'Sensual', '']</td>\n",
       "      <td>Roja</td>\n",
       "      <td>Women</td>\n",
       "      <td>Perfume</td>\n",
       "      <td>Sensual</td>\n",
       "      <td>NaN</td>\n",
       "      <td>Vera EDP</td>\n",
       "      <td>NaN</td>\n",
       "      <td>, ,</td>\n",
       "      <td>NaN</td>\n",
       "      <td>,</td>\n",
       "      <td>NaN</td>\n",
       "      <td>NaN</td>\n",
       "    </tr>\n",
       "  </tbody>\n",
       "</table>\n",
       "</div>"
      ],
      "text/plain": [
       "                                                   Name Price     Rate  \\\n",
       "25    Very Important Notes No 2 EDP - Saffron, Bulga...  295         5   \n",
       "28                                 Givenchy L' Interdit  362   No-Rate   \n",
       "129                                       Coach For Men  226   No-Rate   \n",
       "217                       Franck Olivier Franck Olivier  104   No-Rate   \n",
       "328                          Elizabeth Arden 5Th Avenue  145         5   \n",
       "362                    Givenchy Gentlemen Only Absolute  358   No-Rate   \n",
       "556                                            Dior Joy  695   No-Rate   \n",
       "640                          Parfums Gres Cabotine Gold  115   No-Rate   \n",
       "3246           Givenchy Eclats Precieux Limited Edition  295   No-Rate   \n",
       "3256                           Givenchy Ange Ou Etrange  360   No-Rate   \n",
       "3257                          Givenchy Play For Her EDP  345   No-Rate   \n",
       "3530         Dolce & Gabanna L'imperatrice 3 Pour Femme  199         5   \n",
       "3533                        The Finest Oud EDP - 100 ml  209         5   \n",
       "3537                     Jean Paul Gaultier So Scandal!  440         5   \n",
       "3556                                Mancera Red Tobacco  499      4.38   \n",
       "3706  Hermes Eau Des Merveilles Bleue Gift Set (EDT ...  717   No-Rate   \n",
       "3870                                  Chopard Wish Pink  135   No-Rate   \n",
       "3964                        Fendi Fan Di Fendi Assoluto  356         3   \n",
       "3994    Jo Malone Jasmine Sambac & Marigold Intense EDC  704   No-Rate   \n",
       "4046                            Kenzo Jungle L'Elephant  353   No-Rate   \n",
       "4117           LancÃ´me La Nuit Tresor A La Folie L'Eau  441   No-Rate   \n",
       "4125                   Lancome Maison RÃ´ses Berberanza  950   No-Rate   \n",
       "4639                             Sainte Valere Vera EDP   65   No-Rate   \n",
       "\n",
       "     Rating_count                                            Details  \\\n",
       "25             1   ['Very Important Notes', 'Unisex', 'Perfume', ...   \n",
       "28              0  ['Givenchy', 'Women', 'Perfume', 'Romantic', '...   \n",
       "129             0  ['Coach', 'Men', 'Perfume', 'Masculine', '100 ...   \n",
       "217             0  ['Franck Olivier', 'Women', 'Perfume', 'Charis...   \n",
       "328            2   ['Elizabeth Arden', 'Women', 'Perfume', 'Natur...   \n",
       "362             0  ['Givenchy', 'Men', 'Perfume', 'Natural', '50 ...   \n",
       "556             0  ['Dior', 'Women', 'Perfume', 'Glamorous', '90 ...   \n",
       "640             0  ['Parfums GrÃ¨s', 'Women', 'Perfume', 'Feminin...   \n",
       "3246            0  ['Givenchy', 'Women', 'Perfume', 'Feminine', '...   \n",
       "3256            0       ['Givenchy', 'Women', 'Perfume', 'Feminine']   \n",
       "3257            0       ['Givenchy', 'Women', 'Perfume', 'Feminine']   \n",
       "3530           6   ['Dolce&Gabbana', 'Women', 'Perfume', 'Romanti...   \n",
       "3533           1   ['The Finest', 'Unisex', 'Perfume', 'Charismat...   \n",
       "3537           1   ['Jean Paul Gaultier', 'Women', 'Perfume', 'Fl...   \n",
       "3556           8     ['Mancera', 'Unisex', 'Perfume', 'Charismatic']   \n",
       "3706            0  ['Eau de Toilette', 'Hermes', 'Women', 'Perfum...   \n",
       "3870            0        ['Chopard', 'Women', 'Perfume', 'Romantic']   \n",
       "3964           1       ['Fan di Fendi', 'Men', 'Perfume', 'Natural']   \n",
       "3994            0   ['Jo Malone', 'Women', 'Perfume', 'Sensual', '']   \n",
       "4046            0   ['Kenzo', 'Women', 'Perfume', 'Charismatic', '']   \n",
       "4117            0  ['Lancome', 'Women', 'Perfume', 'Charismatic',...   \n",
       "4125            0        ['Lancome', 'Unisex', 'Perfume', 'Natural']   \n",
       "4639            0        ['Roja', 'Women', 'Perfume', 'Sensual', '']   \n",
       "\n",
       "                     Brand  Gender Product_Type        Character  \\\n",
       "25    Very Important Notes  Unisex      Perfume  Floral Oriental   \n",
       "28                Givenchy   Women      Perfume         Romantic   \n",
       "129                  Coach     Men      Perfume        Masculine   \n",
       "217         Franck Olivier   Women      Perfume      Charismatic   \n",
       "328        Elizabeth Arden   Women      Perfume          Natural   \n",
       "362               Givenchy     Men      Perfume          Natural   \n",
       "556                   Dior   Women      Perfume        Glamorous   \n",
       "640          Parfums GrÃ¨s   Women      Perfume         Feminine   \n",
       "3246              Givenchy   Women      Perfume         Feminine   \n",
       "3256              Givenchy   Women      Perfume         Feminine   \n",
       "3257              Givenchy   Women      Perfume         Feminine   \n",
       "3530         Dolce&Gabbana   Women      Perfume         Romantic   \n",
       "3533            The Finest  Unisex      Perfume      Charismatic   \n",
       "3537    Jean Paul Gaultier   Women      Perfume           Floral   \n",
       "3556               Mancera  Unisex      Perfume      Charismatic   \n",
       "3706                Hermes   Women  Perfume Set          Natural   \n",
       "3870               Chopard   Women      Perfume         Romantic   \n",
       "3964          Fan di Fendi     Men      Perfume          Natural   \n",
       "3994             Jo Malone   Women      Perfume          Sensual   \n",
       "4046                 Kenzo   Women      Perfume      Charismatic   \n",
       "4117               Lancome   Women      Perfume      Charismatic   \n",
       "4125               Lancome  Unisex      Perfume          Natural   \n",
       "4639                  Roja   Women      Perfume          Sensual   \n",
       "\n",
       "     Fragrance_Family               Size  Year  \\\n",
       "25                NaN               2020   NaN   \n",
       "28                NaN               2016   NaN   \n",
       "129               NaN             100 ml   NaN   \n",
       "217               NaN              75 ml   NaN   \n",
       "328               NaN             125 ml   NaN   \n",
       "362               NaN              50 ml   NaN   \n",
       "556               NaN              90 ml  2012   \n",
       "640               NaN             100 ml  2013   \n",
       "3246              NaN              50 ml   NaN   \n",
       "3256              NaN                NaN   NaN   \n",
       "3257              NaN                NaN   NaN   \n",
       "3530              NaN                NaN   NaN   \n",
       "3533              NaN             100 ml   NaN   \n",
       "3537              NaN              80 ml  2020   \n",
       "3556              NaN                NaN   NaN   \n",
       "3706              NaN             40 ml)   NaN   \n",
       "3870              NaN                NaN   NaN   \n",
       "3964              NaN                NaN   NaN   \n",
       "3994              NaN                NaN   NaN   \n",
       "4046              NaN                NaN   NaN   \n",
       "4117              NaN        Folie L'Eau   NaN   \n",
       "4125              NaN  RÃ´ses Berberanza   NaN   \n",
       "4639              NaN           Vera EDP   NaN   \n",
       "\n",
       "                                            Ingredients    Concentration  \\\n",
       "25                    Saffron, Pepper ,Rose ,Oud, Amber    Eau de Parfum   \n",
       "28    Orange Blossom, Jasmine And Tuberose, Vetiver ...    Eau de Parfum   \n",
       "129   Pear, Bergamot, Kumquat, Grapefruit, Lavender,...  Eau de Toilette   \n",
       "217   Grapefruit, Peach, Black Currant, Plum, Jasmin...    Eau de Parfum   \n",
       "328   Amber, Sandalwood, Lily of the Valley, Ylang-Y...    Eau de Parfum   \n",
       "362   Bergamot,Cinnamon, Saffron, Nutmeg,Vanilla, Sa...    Eau de Parfum   \n",
       "556   Bergamot, Mandarin Orange,Jasmine, Grasse Rose...    Eau de Parfum   \n",
       "640   Melon, Pink Pepper, Mandarin Orange ,Peony, Ti...    Eau de Parfum   \n",
       "3246                                                NaN  Eau de Toilette   \n",
       "3256                                                NaN              NaN   \n",
       "3257                                                NaN              NaN   \n",
       "3530                                                NaN              NaN   \n",
       "3533                                                NaN              NaN   \n",
       "3537                   Orange Blossom, Jasmine Tuberose              NaN   \n",
       "3556                                                NaN              NaN   \n",
       "3706            Juniper berry, Patchouli, Mineral stone  Eau de Toilette   \n",
       "3870                                                NaN              NaN   \n",
       "3964                                                NaN              NaN   \n",
       "3994                                                NaN              NaN   \n",
       "4046                                                NaN              NaN   \n",
       "4117                                               , ,               NaN   \n",
       "4125                                               , ,               NaN   \n",
       "4639                                               , ,               NaN   \n",
       "\n",
       "                                               Top_note  \\\n",
       "25                                      Saffron, Pepper   \n",
       "28                                       Orange Blossom   \n",
       "129                             Bergamot, Kumquat, Pear   \n",
       "217              Grapefruit, Plum, Black Currant, Peach   \n",
       "328   Bergamot, Lilac, Linden blossom, Magnolia, Lil...   \n",
       "362                                            Bergamot   \n",
       "556                           Bergamot, Mandarin Orange   \n",
       "640                 Melon, Pink Pepper, Mandarin Orange   \n",
       "3246                                                NaN   \n",
       "3256                                                NaN   \n",
       "3257                                                NaN   \n",
       "3530                                                NaN   \n",
       "3533                                                NaN   \n",
       "3537                                     Orange Blossom   \n",
       "3556                                                NaN   \n",
       "3706                                      Juniper berry   \n",
       "3870                                                NaN   \n",
       "3964                                                NaN   \n",
       "3994                                                NaN   \n",
       "4046                                                NaN   \n",
       "4117                                                 ,    \n",
       "4125                                                 ,    \n",
       "4639                                                 ,    \n",
       "\n",
       "                                            Middle_note  \\\n",
       "25                                                 Rose   \n",
       "28                                 Jasmine And Tuberose   \n",
       "129            Geranium, Cardamom, Coriander (Cilantro)   \n",
       "217              Jasmine, Rose, Ylang-Ylang, Heliotrope   \n",
       "328   Bulgarian rose, Violet, Ylang-ylang, Jasmine, ...   \n",
       "362                           Cinnamon, Saffron, Nutmeg   \n",
       "556                                Jasmine, Grasse Rose   \n",
       "640                        Peony, Tiare Flower, Jasmine   \n",
       "3246                                                NaN   \n",
       "3256                                                NaN   \n",
       "3257                                                NaN   \n",
       "3530                                                NaN   \n",
       "3533                                                NaN   \n",
       "3537                                   Jasmine Tuberose   \n",
       "3556                                                NaN   \n",
       "3706                                          Patchouli   \n",
       "3870                                                NaN   \n",
       "3964                                                NaN   \n",
       "3994                                                NaN   \n",
       "4046                                                NaN   \n",
       "4117                                                NaN   \n",
       "4125                                                NaN   \n",
       "4639                                                NaN   \n",
       "\n",
       "                                           Base_note  \n",
       "25                                        Oud, Amber  \n",
       "28                             Vetiver And Patchouli  \n",
       "129                Ambergris, Suede, Haitian Vetiver  \n",
       "217                        Musk, Sandalwood, Vanilla  \n",
       "328   Amber, Iris, Tibetan musk, Sandalwood, Vanilla  \n",
       "362                              Vanilla, Sandalwood  \n",
       "556         Cedar, Patchouli, Sandalwood, White Musk  \n",
       "640                        Amber, Vetiver, Patchouli  \n",
       "3246                                             NaN  \n",
       "3256                                             NaN  \n",
       "3257                                             NaN  \n",
       "3530                                             NaN  \n",
       "3533                                             NaN  \n",
       "3537                                             NaN  \n",
       "3556                                             NaN  \n",
       "3706                                   Mineral stone  \n",
       "3870                                             NaN  \n",
       "3964                                             NaN  \n",
       "3994                                             NaN  \n",
       "4046                                             NaN  \n",
       "4117                                             NaN  \n",
       "4125                                             NaN  \n",
       "4639                                             NaN  "
      ]
     },
     "execution_count": 43,
     "metadata": {},
     "output_type": "execute_result"
    }
   ],
   "source": [
    "df_perfumes[df_perfumes['Fragrance_Family'].isna()]"
   ]
  },
  {
   "cell_type": "markdown",
   "metadata": {},
   "source": [
    "##### There are 2 ways to clean the fragrance family Attribute :\n",
    "        - drop unkown values and nulls \n",
    "        - take small values to one called mexid and drop uknown values such as 55 ml , 100 ml"
   ]
  },
  {
   "cell_type": "code",
   "execution_count": 44,
   "metadata": {},
   "outputs": [
    {
     "name": "stderr",
     "output_type": "stream",
     "text": [
      "/tmp/ipykernel_45329/462874940.py:3: FutureWarning: The default value of regex will change from True to False in a future version. In addition, single character regular expressions will *not* be treated as literal strings when regex=True.\n",
      "  df_perfumes['Fragrance_Family'] = df_perfumes['Fragrance_Family'].str.replace('\\\\',' ')\n"
     ]
    }
   ],
   "source": [
    "df_perfumes['Fragrance_Family'] = df_perfumes['Fragrance_Family'].str.replace(',',' ')\n",
    "df_perfumes['Fragrance_Family'] = df_perfumes['Fragrance_Family'].str.replace('\\\"',' ')\n",
    "df_perfumes['Fragrance_Family'] = df_perfumes['Fragrance_Family'].str.replace('\\\\',' ')\n",
    "df_perfumes['Fragrance_Family'] = df_perfumes['Fragrance_Family'].str.replace(' ','_')"
   ]
  },
  {
   "cell_type": "code",
   "execution_count": 48,
   "metadata": {},
   "outputs": [],
   "source": [
    "df_perfumes.Fragrance_Family = df_perfumes.Fragrance_Family.astype('category')"
   ]
  },
  {
   "cell_type": "code",
   "execution_count": 49,
   "metadata": {},
   "outputs": [
    {
     "data": {
      "text/plain": [
       "CategoricalIndex(['Mossy_Woods', 'Oriental_Leather', 'Oriental_Chypre',\n",
       "                  '100_ml', 'Aromatic_Woody', 'Musky', 'Oriental_Woody',\n",
       "                  'Sweet', 'Fruity_Woody', 'Floral_Musky', 'Fruity_Chypre',\n",
       "                  'Floral_Chypre', 'Woody_Floral_Oriental', '75_ml',\n",
       "                  'Floral_Aromatic', 'Oud_powder-_amber_-_fragrance',\n",
       "                  'Perfume', 'Floral_Citrus', 'Aromatic_Oriental', 'Frui',\n",
       "                  '50_ml', 'Chypre_Floral_Oriental'],\n",
       "                 categories=['100_ml', '50_ml', '55_ml', '75_ml', 'Aquatic', 'Arabian', 'Aromatic', 'Aromatic_Oriental', ...], ordered=False, dtype='category')"
      ]
     },
     "execution_count": 49,
     "metadata": {},
     "output_type": "execute_result"
    }
   ],
   "source": [
    "df_perfumes.Fragrance_Family.value_counts().loc[lambda x: x<= 5].index"
   ]
  },
  {
   "cell_type": "code",
   "execution_count": 56,
   "metadata": {},
   "outputs": [
    {
     "data": {
      "text/plain": [
       "Woody                            649\n",
       "Aromatic                         432\n",
       "Fruity                           332\n",
       "Citrus                           318\n",
       "Floral_Oriental                  299\n",
       "Woody_Oriental                   180\n",
       "Leather                          110\n",
       "Woody_Woody                       86\n",
       "Oud                               73\n",
       "Soft_Floral                       70\n",
       "Aquatic                           53\n",
       "Arabian                           41\n",
       "Soft_Oriental                     33\n",
       "Chypre                            16\n",
       "Green                             14\n",
       "Floral_Fruity                     11\n",
       "Floral_Woody                       9\n",
       "55_ml                              7\n",
       "Mossy_Woods                        5\n",
       "Oriental_Leather                   5\n",
       "Oriental_Chypre                    4\n",
       "100_ml                             4\n",
       "Aromatic_Woody                     4\n",
       "Musky                              3\n",
       "Oriental_Woody                     3\n",
       "Sweet                              3\n",
       "Fruity_Woody                       2\n",
       "Floral_Musky                       2\n",
       "Fruity_Chypre                      2\n",
       "Floral_Chypre                      1\n",
       "Woody_Floral_Oriental              1\n",
       "75_ml                              1\n",
       "Floral_Aromatic                    1\n",
       "Oud_powder-_amber_-_fragrance      1\n",
       "Perfume                            1\n",
       "Floral_Citrus                      1\n",
       "Aromatic_Oriental                  1\n",
       "Frui                               1\n",
       "50_ml                              1\n",
       "Chypre_Floral_Oriental             1\n",
       "Name: Fragrance_Family, dtype: int64"
      ]
     },
     "execution_count": 56,
     "metadata": {},
     "output_type": "execute_result"
    }
   ],
   "source": [
    "df_perfumes.Fragrance_Family.value_counts()"
   ]
  },
  {
   "cell_type": "code",
   "execution_count": 60,
   "metadata": {},
   "outputs": [],
   "source": [
    "df_perfumes = df_perfumes[df_perfumes['Fragrance_Family'].str.contains(\"ml\") == False]"
   ]
  },
  {
   "cell_type": "code",
   "execution_count": 57,
   "metadata": {},
   "outputs": [],
   "source": [
    " df_perfumes= df_perfumes['Fragrance_Family'].str.replace('Floral_','Floral')df_perfumes['Fragrance_Family']"
   ]
  },
  {
   "cell_type": "code",
   "execution_count": 62,
   "metadata": {},
   "outputs": [
    {
     "data": {
      "text/plain": [
       "38"
      ]
     },
     "execution_count": 62,
     "metadata": {},
     "output_type": "execute_result"
    }
   ],
   "source": [
    "df_perfumes['Fragrance_Family'].nunique()"
   ]
  },
  {
   "cell_type": "code",
   "execution_count": 63,
   "metadata": {},
   "outputs": [
    {
     "data": {
      "text/plain": [
       "Index(['FloralWoody', 'Mossy_Woods', 'Oriental_Leather', 'Oriental_Chypre',\n",
       "       'Aromatic_Woody', 'Oriental_Woody', 'Musky', 'Sweet', 'Fruity_Woody',\n",
       "       'Fruity_Chypre', 'FloralMusky', 'Chypre_FloralOriental', 'FloralChypre',\n",
       "       'Woody_FloralOriental', 'FloralCitrus', 'FloralAromatic', 'Perfume',\n",
       "       'Oud_powder-_amber_-_fragrance', 'Aromatic_Oriental', 'Frui'],\n",
       "      dtype='object')"
      ]
     },
     "execution_count": 63,
     "metadata": {},
     "output_type": "execute_result"
    }
   ],
   "source": [
    "df_perfumes.Fragrance_Family.value_counts().loc[lambda x: x<= 10].index"
   ]
  },
  {
   "cell_type": "code",
   "execution_count": 64,
   "metadata": {},
   "outputs": [
    {
     "name": "stderr",
     "output_type": "stream",
     "text": [
      "/tmp/ipykernel_45329/1398794822.py:1: SettingWithCopyWarning: \n",
      "A value is trying to be set on a copy of a slice from a DataFrame.\n",
      "Try using .loc[row_indexer,col_indexer] = value instead\n",
      "\n",
      "See the caveats in the documentation: https://pandas.pydata.org/pandas-docs/stable/user_guide/indexing.html#returning-a-view-versus-a-copy\n",
      "  df_perfumes[\"Fragrance_Family\"] = df_perfumes[\"Fragrance_Family\"].replace(['FloralWoody', 'Mossy_Woods', 'Oriental_Leather', 'Oriental_Chypre',\n"
     ]
    }
   ],
   "source": [
    "df_perfumes[\"Fragrance_Family\"] = df_perfumes[\"Fragrance_Family\"].replace(['FloralWoody', 'Mossy_Woods', 'Oriental_Leather', 'Oriental_Chypre',\n",
    "       'Aromatic_Woody', 'Oriental_Woody', 'Musky', 'Sweet', 'Fruity_Woody',\n",
    "       'Fruity_Chypre', 'FloralMusky', 'Chypre_FloralOriental', 'FloralChypre',\n",
    "       'Woody_FloralOriental', 'FloralCitrus', 'FloralAromatic', 'Perfume',\n",
    "       'Oud_powder-_amber_-_fragrance', 'Aromatic_Oriental', 'Frui'], 'Mixed-Scent')"
   ]
  },
  {
   "cell_type": "code",
   "execution_count": 65,
   "metadata": {},
   "outputs": [
    {
     "data": {
      "text/plain": [
       "19"
      ]
     },
     "execution_count": 65,
     "metadata": {},
     "output_type": "execute_result"
    }
   ],
   "source": [
    "df_perfumes[\"Fragrance_Family\"].nunique()"
   ]
  },
  {
   "cell_type": "markdown",
   "metadata": {},
   "source": [
    "**Check & Clean the Size Attribute**"
   ]
  },
  {
   "cell_type": "code",
   "execution_count": 66,
   "metadata": {},
   "outputs": [
    {
     "data": {
      "text/plain": [
       "44"
      ]
     },
     "execution_count": 66,
     "metadata": {},
     "output_type": "execute_result"
    }
   ],
   "source": [
    "df_perfumes.Size.isnull().sum()"
   ]
  },
  {
   "cell_type": "code",
   "execution_count": 67,
   "metadata": {},
   "outputs": [
    {
     "data": {
      "text/plain": [
       "100 ml    2252\n",
       "50 ml      893\n",
       "75 ml      324\n",
       "125 ml     150\n",
       "55 ml      147\n",
       "          ... \n",
       "140 ml       1\n",
       "4 ml)        1\n",
       "3 Pcs        1\n",
       "20 ml)       1\n",
       "25 gm        1\n",
       "Name: Size, Length: 83, dtype: int64"
      ]
     },
     "execution_count": 67,
     "metadata": {},
     "output_type": "execute_result"
    }
   ],
   "source": [
    "df_perfumes.Size.value_counts()"
   ]
  },
  {
   "cell_type": "code",
   "execution_count": 68,
   "metadata": {},
   "outputs": [
    {
     "data": {
      "text/plain": [
       "0       100 ml\n",
       "1        50 ml\n",
       "2        90 ml\n",
       "3       120 ml\n",
       "4       100 ml\n",
       "         ...  \n",
       "6117    100 ml\n",
       "6118     50 ml\n",
       "6119     60 ml\n",
       "6120    100 ml\n",
       "6121    100 ml\n",
       "Name: Size, Length: 4672, dtype: object"
      ]
     },
     "execution_count": 68,
     "metadata": {},
     "output_type": "execute_result"
    }
   ],
   "source": [
    "df_perfumes['Size'][df_perfumes['Size'].str.contains('ml', na=False)]"
   ]
  },
  {
   "cell_type": "code",
   "execution_count": 69,
   "metadata": {},
   "outputs": [
    {
     "data": {
      "text/plain": [
       "330     1.7 Tola / 20g\n",
       "345     1.7 Tola / 20g\n",
       "346     1.7 Tola / 20g\n",
       "347     1.7 Tola / 20g\n",
       "348     1.7 Tola / 20g\n",
       "6053    1.7 Tola / 20g\n",
       "6063    1.7 Tola / 20g\n",
       "6064    1.7 Tola / 20g\n",
       "6065    1.7 Tola / 20g\n",
       "6066    1.7 Tola / 20g\n",
       "Name: Size, dtype: object"
      ]
     },
     "execution_count": 69,
     "metadata": {},
     "output_type": "execute_result"
    }
   ],
   "source": [
    "df_perfumes['Size'][df_perfumes['Size'].str.contains('Tola', na=False)]"
   ]
  },
  {
   "cell_type": "code",
   "execution_count": 70,
   "metadata": {},
   "outputs": [
    {
     "name": "stderr",
     "output_type": "stream",
     "text": [
      "/tmp/ipykernel_45329/2071005985.py:2: FutureWarning: The default value of regex will change from True to False in a future version.\n",
      "  df['Size'] = df['Size'].str.replace('1.7 Tola /', '')\n"
     ]
    }
   ],
   "source": [
    "df=df_perfumes.copy()\n",
    "df['Size'] = df['Size'].str.replace('1.7 Tola /', '')"
   ]
  },
  {
   "cell_type": "code",
   "execution_count": 71,
   "metadata": {},
   "outputs": [
    {
     "data": {
      "text/plain": [
       "(4780, 17)"
      ]
     },
     "execution_count": 71,
     "metadata": {},
     "output_type": "execute_result"
    }
   ],
   "source": [
    "df_perfumes.shape"
   ]
  },
  {
   "cell_type": "code",
   "execution_count": 72,
   "metadata": {},
   "outputs": [
    {
     "data": {
      "text/plain": [
       "39"
      ]
     },
     "execution_count": 72,
     "metadata": {},
     "output_type": "execute_result"
    }
   ],
   "source": [
    "df1=df[ (df['Size'].str.contains(' g', na=False))]\n",
    "len(df1)"
   ]
  },
  {
   "cell_type": "code",
   "execution_count": 74,
   "metadata": {},
   "outputs": [
    {
     "data": {
      "text/plain": [
       "4669"
      ]
     },
     "execution_count": 74,
     "metadata": {},
     "output_type": "execute_result"
    }
   ],
   "source": [
    "result=df_perfumes[(df_perfumes['Size'].str.contains(' ml', na=False))]\n",
    "len(result)"
   ]
  },
  {
   "cell_type": "code",
   "execution_count": 76,
   "metadata": {},
   "outputs": [
    {
     "data": {
      "text/plain": [
       "100 ml     2252\n",
       "50 ml       893\n",
       "75 ml       324\n",
       "125 ml      150\n",
       "55 ml       147\n",
       "80 ml       118\n",
       "120 ml       98\n",
       "90 ml        95\n",
       "30 ml        83\n",
       "250 ml       79\n",
       "60 ml        50\n",
       "3 ml         49\n",
       "150 ml       39\n",
       "200 ml       39\n",
       "15 ml        37\n",
       "180 ml       20\n",
       "12 ml        19\n",
       "20 ml        19\n",
       "70 ml        19\n",
       "35 ml        18\n",
       "40 ml        18\n",
       "85 ml        13\n",
       "10 ml         9\n",
       "6 ml          9\n",
       "65 ml         8\n",
       "300 ml        6\n",
       "500 ml        5\n",
       "110 ml        5\n",
       "100 ml)       5\n",
       "88 ml         4\n",
       "25 ml         4\n",
       "95 ml         3\n",
       "59 ml         3\n",
       "118 ml        3\n",
       "92 ml         3\n",
       "18 ml         2\n",
       "11 ml         2\n",
       "175 ml        2\n",
       "135 ml        2\n",
       "14 ml         1\n",
       "75 ml)        1\n",
       "100 ml        1\n",
       "400 ml        1\n",
       "96 ml         1\n",
       "67 ml         1\n",
       "20 ml)        1\n",
       "160 ml        1\n",
       "4 ml)         1\n",
       "140 ml        1\n",
       "51 ml         1\n",
       "24 ml         1\n",
       "9 ml          1\n",
       "23 ml         1\n",
       "375 ml        1\n",
       "Name: Size, dtype: int64"
      ]
     },
     "execution_count": 76,
     "metadata": {},
     "output_type": "execute_result"
    }
   ],
   "source": [
    "result['Size'].value_counts()"
   ]
  },
  {
   "cell_type": "code",
   "execution_count": 77,
   "metadata": {},
   "outputs": [
    {
     "name": "stderr",
     "output_type": "stream",
     "text": [
      "/tmp/ipykernel_45329/822552672.py:1: FutureWarning: The default value of regex will change from True to False in a future version. In addition, single character regular expressions will *not* be treated as literal strings when regex=True.\n",
      "  result['Size'] = result['Size'].str.replace(')','')\n",
      "/tmp/ipykernel_45329/822552672.py:1: SettingWithCopyWarning: \n",
      "A value is trying to be set on a copy of a slice from a DataFrame.\n",
      "Try using .loc[row_indexer,col_indexer] = value instead\n",
      "\n",
      "See the caveats in the documentation: https://pandas.pydata.org/pandas-docs/stable/user_guide/indexing.html#returning-a-view-versus-a-copy\n",
      "  result['Size'] = result['Size'].str.replace(')','')\n"
     ]
    }
   ],
   "source": [
    "result['Size'] = result['Size'].str.replace(')','')"
   ]
  },
  {
   "cell_type": "code",
   "execution_count": 78,
   "metadata": {},
   "outputs": [
    {
     "name": "stderr",
     "output_type": "stream",
     "text": [
      "/tmp/ipykernel_45329/607094173.py:1: SettingWithCopyWarning: \n",
      "A value is trying to be set on a copy of a slice from a DataFrame.\n",
      "Try using .loc[row_indexer,col_indexer] = value instead\n",
      "\n",
      "See the caveats in the documentation: https://pandas.pydata.org/pandas-docs/stable/user_guide/indexing.html#returning-a-view-versus-a-copy\n",
      "  result['Size'] = result['Size'].str.replace(' ','_')\n"
     ]
    }
   ],
   "source": [
    "result['Size'] = result['Size'].str.replace(' ','_')"
   ]
  },
  {
   "cell_type": "code",
   "execution_count": 81,
   "metadata": {},
   "outputs": [
    {
     "data": {
      "text/plain": [
       "\"\\nresult['Size'] = result.Size.replace(['_Pure_green_ingredients_include_lime,_ginger,_lemon,_vetiver,_white_pepper',\\n'Bergamot,_mandarin_orange,_green_tea,_black_currant,_frankincense,_sandalwood,_musk'],np.nan)\\n\""
      ]
     },
     "execution_count": 81,
     "metadata": {},
     "output_type": "execute_result"
    }
   ],
   "source": [
    "'''\n",
    "result['Size'] = result.Size.replace(['_Pure_green_ingredients_include_lime,_ginger,_lemon,_vetiver,_white_pepper',\n",
    "'Bergamot,_mandarin_orange,_green_tea,_black_currant,_frankincense,_sandalwood,_musk'],np.nan)\n",
    "'''"
   ]
  },
  {
   "cell_type": "code",
   "execution_count": 82,
   "metadata": {},
   "outputs": [
    {
     "data": {
      "text/plain": [
       "100_ml     2257\n",
       "50_ml       893\n",
       "75_ml       325\n",
       "125_ml      150\n",
       "55_ml       147\n",
       "80_ml       118\n",
       "120_ml       98\n",
       "90_ml        95\n",
       "30_ml        83\n",
       "250_ml       79\n",
       "60_ml        50\n",
       "3_ml         49\n",
       "200_ml       39\n",
       "150_ml       39\n",
       "15_ml        37\n",
       "20_ml        20\n",
       "180_ml       20\n",
       "70_ml        19\n",
       "12_ml        19\n",
       "35_ml        18\n",
       "40_ml        18\n",
       "85_ml        13\n",
       "10_ml         9\n",
       "6_ml          9\n",
       "65_ml         8\n",
       "300_ml        6\n",
       "110_ml        5\n",
       "500_ml        5\n",
       "88_ml         4\n",
       "25_ml         4\n",
       "95_ml         3\n",
       "92_ml         3\n",
       "118_ml        3\n",
       "59_ml         3\n",
       "175_ml        2\n",
       "18_ml         2\n",
       "11_ml         2\n",
       "135_ml        2\n",
       "400_ml        1\n",
       "4_ml          1\n",
       "100_ml_       1\n",
       "96_ml         1\n",
       "23_ml         1\n",
       "140_ml        1\n",
       "51_ml         1\n",
       "24_ml         1\n",
       "9_ml          1\n",
       "14_ml         1\n",
       "160_ml        1\n",
       "67_ml         1\n",
       "375_ml        1\n",
       "Name: Size, dtype: int64"
      ]
     },
     "execution_count": 82,
     "metadata": {},
     "output_type": "execute_result"
    }
   ],
   "source": [
    "result['Size'].value_counts()"
   ]
  },
  {
   "cell_type": "markdown",
   "metadata": {},
   "source": [
    "**Check & Clean the Gender Attribute**"
   ]
  },
  {
   "cell_type": "markdown",
   "metadata": {},
   "source": [
    "Check the Unique Categories in the Gender Attribute"
   ]
  },
  {
   "cell_type": "code",
   "execution_count": 83,
   "metadata": {},
   "outputs": [
    {
     "data": {
      "text/plain": [
       "Unisex    1981\n",
       "Women     1717\n",
       "Men        965\n",
       "Kids         6\n",
       "Name: Gender, dtype: int64"
      ]
     },
     "execution_count": 83,
     "metadata": {},
     "output_type": "execute_result"
    }
   ],
   "source": [
    "result.Gender.value_counts()"
   ]
  },
  {
   "cell_type": "code",
   "execution_count": 84,
   "metadata": {},
   "outputs": [
    {
     "data": {
      "text/html": [
       "<div>\n",
       "<style scoped>\n",
       "    .dataframe tbody tr th:only-of-type {\n",
       "        vertical-align: middle;\n",
       "    }\n",
       "\n",
       "    .dataframe tbody tr th {\n",
       "        vertical-align: top;\n",
       "    }\n",
       "\n",
       "    .dataframe thead th {\n",
       "        text-align: right;\n",
       "    }\n",
       "</style>\n",
       "<table border=\"1\" class=\"dataframe\">\n",
       "  <thead>\n",
       "    <tr style=\"text-align: right;\">\n",
       "      <th></th>\n",
       "      <th>Name</th>\n",
       "      <th>Price</th>\n",
       "      <th>Rate</th>\n",
       "      <th>Rating_count</th>\n",
       "      <th>Details</th>\n",
       "      <th>Brand</th>\n",
       "      <th>Gender</th>\n",
       "      <th>Product_Type</th>\n",
       "      <th>Character</th>\n",
       "      <th>Fragrance_Family</th>\n",
       "      <th>Size</th>\n",
       "      <th>Year</th>\n",
       "      <th>Ingredients</th>\n",
       "      <th>Concentration</th>\n",
       "      <th>Top_note</th>\n",
       "      <th>Middle_note</th>\n",
       "      <th>Base_note</th>\n",
       "    </tr>\n",
       "  </thead>\n",
       "  <tbody>\n",
       "    <tr>\n",
       "      <th>4857</th>\n",
       "      <td>Cartier IV L'heure Fougueuse</td>\n",
       "      <td>1081</td>\n",
       "      <td>No-Rate</td>\n",
       "      <td>0</td>\n",
       "      <td>['Cartier', 'Unisex', 'Perfume', 'Natural', '7...</td>\n",
       "      <td>Cartier</td>\n",
       "      <td>Unisex</td>\n",
       "      <td>Perfume</td>\n",
       "      <td>Natural</td>\n",
       "      <td>Oriental</td>\n",
       "      <td>75 ml</td>\n",
       "      <td>2010</td>\n",
       "      <td>Bergamot, Magnolia, Horsehair,Blossoms, Green ...</td>\n",
       "      <td>Eau de Parfum</td>\n",
       "      <td>Bergamot, Magnolia, Horsehair</td>\n",
       "      <td>Lily-of-the-Valley, Gardenia, Hawthorn, Bulgar...</td>\n",
       "      <td>Sandalwood, Tonka Bean, Musk</td>\n",
       "    </tr>\n",
       "  </tbody>\n",
       "</table>\n",
       "</div>"
      ],
      "text/plain": [
       "                              Name  Price     Rate Rating_count  \\\n",
       "4857  Cartier IV L'heure Fougueuse  1081   No-Rate            0   \n",
       "\n",
       "                                                Details    Brand  Gender  \\\n",
       "4857  ['Cartier', 'Unisex', 'Perfume', 'Natural', '7...  Cartier  Unisex   \n",
       "\n",
       "     Product_Type Character Fragrance_Family   Size  Year  \\\n",
       "4857      Perfume   Natural         Oriental  75 ml  2010   \n",
       "\n",
       "                                            Ingredients  Concentration  \\\n",
       "4857  Bergamot, Magnolia, Horsehair,Blossoms, Green ...  Eau de Parfum   \n",
       "\n",
       "                           Top_note  \\\n",
       "4857  Bergamot, Magnolia, Horsehair   \n",
       "\n",
       "                                            Middle_note  \\\n",
       "4857  Lily-of-the-Valley, Gardenia, Hawthorn, Bulgar...   \n",
       "\n",
       "                         Base_note  \n",
       "4857  Sandalwood, Tonka Bean, Musk  "
      ]
     },
     "execution_count": 84,
     "metadata": {},
     "output_type": "execute_result"
    }
   ],
   "source": [
    "df_perfumes.sample()"
   ]
  },
  {
   "cell_type": "code",
   "execution_count": 86,
   "metadata": {},
   "outputs": [
    {
     "data": {
      "text/plain": [
       "\"\\nBrand_value = set(df_perfumes.Brand.unique())\\ndf_copy1=df_perfumes.copy()\\ndf_copy1['exists'] = df_copy1['Gender'].map(lambda x : True if x in Brand_value else False) \\n\""
      ]
     },
     "execution_count": 86,
     "metadata": {},
     "output_type": "execute_result"
    }
   ],
   "source": [
    "'''\n",
    "Brand_value = set(df_perfumes.Brand.unique())\n",
    "df_copy1=df_perfumes.copy()\n",
    "df_copy1['exists'] = df_copy1['Gender'].map(lambda x : True if x in Brand_value else False) \n",
    "'''"
   ]
  },
  {
   "cell_type": "code",
   "execution_count": 87,
   "metadata": {},
   "outputs": [
    {
     "data": {
      "text/plain": [
       "'\\ndf_perfumes_NEW = df_copy1[df_copy1[\\'exists\\'] == False]\\nprint(df_perfumes_NEW [\"Gender\"].unique())\\n'"
      ]
     },
     "execution_count": 87,
     "metadata": {},
     "output_type": "execute_result"
    }
   ],
   "source": [
    "'''\n",
    "df_perfumes_NEW = df_copy1[df_copy1['exists'] == False]\n",
    "print(df_perfumes_NEW [\"Gender\"].unique())\n",
    "'''"
   ]
  },
  {
   "cell_type": "code",
   "execution_count": 88,
   "metadata": {},
   "outputs": [
    {
     "data": {
      "text/plain": [
       "Unisex    1981\n",
       "Women     1717\n",
       "Men        965\n",
       "Kids         6\n",
       "Name: Gender, dtype: int64"
      ]
     },
     "execution_count": 88,
     "metadata": {},
     "output_type": "execute_result"
    }
   ],
   "source": [
    "result['Gender'].value_counts()"
   ]
  },
  {
   "cell_type": "markdown",
   "metadata": {},
   "source": [
    "** Check & Clean the product Type Attribute **"
   ]
  },
  {
   "cell_type": "code",
   "execution_count": 89,
   "metadata": {},
   "outputs": [
    {
     "data": {
      "text/plain": [
       "Perfume        4354\n",
       "Hair Mist       105\n",
       "Perfume Oil     101\n",
       "Body Mist        72\n",
       "Perfume Set      19\n",
       "Room Spray        7\n",
       "Diffuser          7\n",
       "Bakhoor           4\n",
       "Name: Product_Type, dtype: int64"
      ]
     },
     "execution_count": 89,
     "metadata": {},
     "output_type": "execute_result"
    }
   ],
   "source": [
    "result.Product_Type.value_counts()"
   ]
  },
  {
   "cell_type": "code",
   "execution_count": 90,
   "metadata": {},
   "outputs": [],
   "source": [
    "#save cleaned dataset\n",
    "\n",
    "result.to_csv('/workspaces/dsi_2022-02/group_assignment2/Cleaned_Golden_Scent_df.csv', index=False)"
   ]
  },
  {
   "cell_type": "markdown",
   "metadata": {},
   "source": [
    "**Check & Clean the Base Note Attribute**"
   ]
  },
  {
   "cell_type": "code",
   "execution_count": 110,
   "metadata": {},
   "outputs": [
    {
     "data": {
      "image/png": "[encoded data removed]",
      "text/plain": [
       "<Figure size 720x720 with 1 Axes>"
      ]
     },
     "metadata": {
      "needs_background": "light"
     },
     "output_type": "display_data"
    }
   ],
   "source": [
    "from wordcloud import WordCloud\n",
    "\n",
    "note_str = ','.join(str(v) for v in df_perfumes_NEW[\"Base_note\"])\n",
    "\n",
    "notesWordcloud = WordCloud(width=700, height=700, margin=2, background_color='white',\n",
    "                     stopwords=[\"Unknown\",\"nan\"], collocations=False).generate(note_str)\n",
    "\n",
    "plt.figure(figsize=(10,10))\n",
    "plt.imshow(notesWordcloud, interpolation='bilinear')\n",
    "plt.axis(\"off\")\n",
    "plt.margins(x=0, y=0)\n",
    "plt.show()"
   ]
  },
  {
   "cell_type": "code",
   "execution_count": 111,
   "metadata": {},
   "outputs": [
    {
     "data": {
      "text/plain": [
       "Text(0, 0.5, 'Total Number of Perfumes')"
      ]
     },
     "execution_count": 111,
     "metadata": {},
     "output_type": "execute_result"
    },
    {
     "data": {
      "image/png": "[encoded data removed]",
      "text/plain": [
       "<Figure size 432x288 with 1 Axes>"
      ]
     },
     "metadata": {
      "needs_background": "light"
     },
     "output_type": "display_data"
    }
   ],
   "source": [
    "base_notes_list = [notes.split(', ') for notes in df_perfumes_NEW['Base_note'] if type(notes) != float]\n",
    "list_ingredient = [item for sublist in base_notes_list  for item in sublist]\n",
    "list_ingredient = [string.strip() for string in list_ingredient]\n",
    "\n",
    "pd.Series(list_ingredient).value_counts().nlargest(20).plot.bar(color = 'purple')\n",
    "plt.title(\"Top Selected Base Note Ingredient for Perfumes\")\n",
    "plt.ylabel(\"Base Note Ingredient\")\n",
    "plt.ylabel(\"Total Number of Perfumes\")"
   ]
  },
  {
   "cell_type": "code",
   "execution_count": null,
   "metadata": {},
   "outputs": [],
   "source": [
    "#Convert Rate and Rating-Count to Int \n",
    "\n",
    "df_perfumes_NEW=df_perfumes_NEW.astype('Rating_count')\n",
    "\n"
   ]
  },
  {
   "cell_type": "code",
   "execution_count": 123,
   "metadata": {},
   "outputs": [
    {
     "data": {
      "text/plain": [
       "<AxesSubplot:>"
      ]
     },
     "execution_count": 123,
     "metadata": {},
     "output_type": "execute_result"
    },
    {
     "data": {
      "image/png": "[encoded data removed]",
      "text/plain": [
       "<Figure size 576x576 with 1 Axes>"
      ]
     },
     "metadata": {
      "needs_background": "light"
     },
     "output_type": "display_data"
    }
   ],
   "source": [
    "Women_Top=df_perfumes_NEW[(df_perfumes_NEW.Gender == 'Women') & (df_perfumes_NEW.Rate >= '4') & (df_perfumes_NEW.Rating_count >= '10')]\n",
    "#Women_Top['Brand'].value_counts().plot(kind = 'barh', figsize = (5,5), title = 'best liked by Women');\n",
    "\n",
    "Women_Top['Brand'].value_counts().plot(kind = 'barh', subplots = False, figsize = (8,8),color=['lightblue','lightgreen','purple'], alpha = .6)\n",
    "\n"
   ]
  },
  {
   "cell_type": "code",
   "execution_count": 95,
   "metadata": {},
   "outputs": [
    {
     "ename": "ConversionError",
     "evalue": "Failed to convert value(s) to axis units: 'No-Rate'",
     "output_type": "error",
     "traceback": [
      "\u001b[0;31m---------------------------------------------------------------------------\u001b[0m",
      "\u001b[0;31mValueError\u001b[0m                                Traceback (most recent call last)",
      "File \u001b[0;32m/opt/conda/lib/python3.9/site-packages/matplotlib/axis.py:1506\u001b[0m, in \u001b[0;36mAxis.convert_units\u001b[0;34m(self, x)\u001b[0m\n\u001b[1;32m   1505\u001b[0m \u001b[39mtry\u001b[39;00m:\n\u001b[0;32m-> 1506\u001b[0m     ret \u001b[39m=\u001b[39m \u001b[39mself\u001b[39;49m\u001b[39m.\u001b[39;49mconverter\u001b[39m.\u001b[39;49mconvert(x, \u001b[39mself\u001b[39;49m\u001b[39m.\u001b[39;49munits, \u001b[39mself\u001b[39;49m)\n\u001b[1;32m   1507\u001b[0m \u001b[39mexcept\u001b[39;00m \u001b[39mException\u001b[39;00m \u001b[39mas\u001b[39;00m e:\n",
      "File \u001b[0;32m/opt/conda/lib/python3.9/site-packages/matplotlib/category.py:49\u001b[0m, in \u001b[0;36mStrCategoryConverter.convert\u001b[0;34m(value, unit, axis)\u001b[0m\n\u001b[1;32m     48\u001b[0m \u001b[39mif\u001b[39;00m unit \u001b[39mis\u001b[39;00m \u001b[39mNone\u001b[39;00m:\n\u001b[0;32m---> 49\u001b[0m     \u001b[39mraise\u001b[39;00m \u001b[39mValueError\u001b[39;00m(\n\u001b[1;32m     50\u001b[0m         \u001b[39m'\u001b[39m\u001b[39mMissing category information for StrCategoryConverter; \u001b[39m\u001b[39m'\u001b[39m\n\u001b[1;32m     51\u001b[0m         \u001b[39m'\u001b[39m\u001b[39mthis might be caused by unintendedly mixing categorical and \u001b[39m\u001b[39m'\u001b[39m\n\u001b[1;32m     52\u001b[0m         \u001b[39m'\u001b[39m\u001b[39mnumeric data\u001b[39m\u001b[39m'\u001b[39m)\n\u001b[1;32m     53\u001b[0m StrCategoryConverter\u001b[39m.\u001b[39m_validate_unit(unit)\n",
      "\u001b[0;31mValueError\u001b[0m: Missing category information for StrCategoryConverter; this might be caused by unintendedly mixing categorical and numeric data",
      "\nThe above exception was the direct cause of the following exception:\n",
      "\u001b[0;31mConversionError\u001b[0m                           Traceback (most recent call last)",
      "\u001b[1;32m/workspaces/dsi_2022-02/group_assignment2/Data_Cleaning_Razan.ipynb Cell 55\u001b[0m in \u001b[0;36m<cell line: 3>\u001b[0;34m()\u001b[0m\n\u001b[1;32m      <a href='vscode-notebook-cell://dev-container%2B2f55736572732f726f7a652f446f63756d656e74732f4d69736b2d536b696c6c732f6473695f323032322d3032/workspaces/dsi_2022-02/group_assignment2/Data_Cleaning_Razan.ipynb#Y131sdnNjb2RlLXJlbW90ZQ%3D%3D?line=0'>1</a>\u001b[0m \u001b[39m#setting the axes\u001b[39;00m\n\u001b[1;32m      <a href='vscode-notebook-cell://dev-container%2B2f55736572732f726f7a652f446f63756d656e74732f4d69736b2d536b696c6c732f6473695f323032322d3032/workspaces/dsi_2022-02/group_assignment2/Data_Cleaning_Razan.ipynb#Y131sdnNjb2RlLXJlbW90ZQ%3D%3D?line=1'>2</a>\u001b[0m axes \u001b[39m=\u001b[39m plt\u001b[39m.\u001b[39maxes()\n\u001b[0;32m----> <a href='vscode-notebook-cell://dev-container%2B2f55736572732f726f7a652f446f63756d656e74732f4d69736b2d536b696c6c732f6473695f323032322d3032/workspaces/dsi_2022-02/group_assignment2/Data_Cleaning_Razan.ipynb#Y131sdnNjb2RlLXJlbW90ZQ%3D%3D?line=2'>3</a>\u001b[0m axes\u001b[39m.\u001b[39;49mset_xlim([\u001b[39m0\u001b[39;49m,(df_perfumes_NEW[\u001b[39m'\u001b[39;49m\u001b[39mRate\u001b[39;49m\u001b[39m'\u001b[39;49m]\u001b[39m.\u001b[39;49mmax())])\n\u001b[1;32m      <a href='vscode-notebook-cell://dev-container%2B2f55736572732f726f7a652f446f63756d656e74732f4d69736b2d536b696c6c732f6473695f323032322d3032/workspaces/dsi_2022-02/group_assignment2/Data_Cleaning_Razan.ipynb#Y131sdnNjb2RlLXJlbW90ZQ%3D%3D?line=3'>4</a>\u001b[0m \u001b[39m#making histogram with 20 bins\u001b[39;00m\n\u001b[1;32m      <a href='vscode-notebook-cell://dev-container%2B2f55736572732f726f7a652f446f63756d656e74732f4d69736b2d536b696c6c732f6473695f323032322d3032/workspaces/dsi_2022-02/group_assignment2/Data_Cleaning_Razan.ipynb#Y131sdnNjb2RlLXJlbW90ZQ%3D%3D?line=4'>5</a>\u001b[0m plt\u001b[39m.\u001b[39mhist(\u001b[39m'\u001b[39m\u001b[39mRate\u001b[39m\u001b[39m'\u001b[39m, data \u001b[39m=\u001b[39m df_perfumes_NEW, bins \u001b[39m=\u001b[39m \u001b[39m20\u001b[39m)\n",
      "File \u001b[0;32m/opt/conda/lib/python3.9/site-packages/matplotlib/axes/_base.py:3689\u001b[0m, in \u001b[0;36m_AxesBase.set_xlim\u001b[0;34m(self, left, right, emit, auto, xmin, xmax)\u001b[0m\n\u001b[1;32m   3687\u001b[0m \u001b[39mself\u001b[39m\u001b[39m.\u001b[39m_process_unit_info([(\u001b[39m\"\u001b[39m\u001b[39mx\u001b[39m\u001b[39m\"\u001b[39m, (left, right))], convert\u001b[39m=\u001b[39m\u001b[39mFalse\u001b[39;00m)\n\u001b[1;32m   3688\u001b[0m left \u001b[39m=\u001b[39m \u001b[39mself\u001b[39m\u001b[39m.\u001b[39m_validate_converted_limits(left, \u001b[39mself\u001b[39m\u001b[39m.\u001b[39mconvert_xunits)\n\u001b[0;32m-> 3689\u001b[0m right \u001b[39m=\u001b[39m \u001b[39mself\u001b[39;49m\u001b[39m.\u001b[39;49m_validate_converted_limits(right, \u001b[39mself\u001b[39;49m\u001b[39m.\u001b[39;49mconvert_xunits)\n\u001b[1;32m   3691\u001b[0m \u001b[39mif\u001b[39;00m left \u001b[39mis\u001b[39;00m \u001b[39mNone\u001b[39;00m \u001b[39mor\u001b[39;00m right \u001b[39mis\u001b[39;00m \u001b[39mNone\u001b[39;00m:\n\u001b[1;32m   3692\u001b[0m     \u001b[39m# Axes init calls set_xlim(0, 1) before get_xlim() can be called,\u001b[39;00m\n\u001b[1;32m   3693\u001b[0m     \u001b[39m# so only grab the limits if we really need them.\u001b[39;00m\n\u001b[1;32m   3694\u001b[0m     old_left, old_right \u001b[39m=\u001b[39m \u001b[39mself\u001b[39m\u001b[39m.\u001b[39mget_xlim()\n",
      "File \u001b[0;32m/opt/conda/lib/python3.9/site-packages/matplotlib/axes/_base.py:3602\u001b[0m, in \u001b[0;36m_AxesBase._validate_converted_limits\u001b[0;34m(self, limit, convert)\u001b[0m\n\u001b[1;32m   3592\u001b[0m \u001b[39m\"\"\"\u001b[39;00m\n\u001b[1;32m   3593\u001b[0m \u001b[39mRaise ValueError if converted limits are non-finite.\u001b[39;00m\n\u001b[1;32m   3594\u001b[0m \n\u001b[0;32m   (...)\u001b[0m\n\u001b[1;32m   3599\u001b[0m \u001b[39mThe limit value after call to convert(), or None if limit is None.\u001b[39;00m\n\u001b[1;32m   3600\u001b[0m \u001b[39m\"\"\"\u001b[39;00m\n\u001b[1;32m   3601\u001b[0m \u001b[39mif\u001b[39;00m limit \u001b[39mis\u001b[39;00m \u001b[39mnot\u001b[39;00m \u001b[39mNone\u001b[39;00m:\n\u001b[0;32m-> 3602\u001b[0m     converted_limit \u001b[39m=\u001b[39m convert(limit)\n\u001b[1;32m   3603\u001b[0m     \u001b[39mif\u001b[39;00m (\u001b[39misinstance\u001b[39m(converted_limit, Real)\n\u001b[1;32m   3604\u001b[0m             \u001b[39mand\u001b[39;00m \u001b[39mnot\u001b[39;00m np\u001b[39m.\u001b[39misfinite(converted_limit)):\n\u001b[1;32m   3605\u001b[0m         \u001b[39mraise\u001b[39;00m \u001b[39mValueError\u001b[39;00m(\u001b[39m\"\u001b[39m\u001b[39mAxis limits cannot be NaN or Inf\u001b[39m\u001b[39m\"\u001b[39m)\n",
      "File \u001b[0;32m/opt/conda/lib/python3.9/site-packages/matplotlib/artist.py:252\u001b[0m, in \u001b[0;36mArtist.convert_xunits\u001b[0;34m(self, x)\u001b[0m\n\u001b[1;32m    250\u001b[0m \u001b[39mif\u001b[39;00m ax \u001b[39mis\u001b[39;00m \u001b[39mNone\u001b[39;00m \u001b[39mor\u001b[39;00m ax\u001b[39m.\u001b[39mxaxis \u001b[39mis\u001b[39;00m \u001b[39mNone\u001b[39;00m:\n\u001b[1;32m    251\u001b[0m     \u001b[39mreturn\u001b[39;00m x\n\u001b[0;32m--> 252\u001b[0m \u001b[39mreturn\u001b[39;00m ax\u001b[39m.\u001b[39;49mxaxis\u001b[39m.\u001b[39;49mconvert_units(x)\n",
      "File \u001b[0;32m/opt/conda/lib/python3.9/site-packages/matplotlib/axis.py:1508\u001b[0m, in \u001b[0;36mAxis.convert_units\u001b[0;34m(self, x)\u001b[0m\n\u001b[1;32m   1506\u001b[0m     ret \u001b[39m=\u001b[39m \u001b[39mself\u001b[39m\u001b[39m.\u001b[39mconverter\u001b[39m.\u001b[39mconvert(x, \u001b[39mself\u001b[39m\u001b[39m.\u001b[39munits, \u001b[39mself\u001b[39m)\n\u001b[1;32m   1507\u001b[0m \u001b[39mexcept\u001b[39;00m \u001b[39mException\u001b[39;00m \u001b[39mas\u001b[39;00m e:\n\u001b[0;32m-> 1508\u001b[0m     \u001b[39mraise\u001b[39;00m munits\u001b[39m.\u001b[39mConversionError(\u001b[39m'\u001b[39m\u001b[39mFailed to convert value(s) to axis \u001b[39m\u001b[39m'\u001b[39m\n\u001b[1;32m   1509\u001b[0m                                  \u001b[39mf\u001b[39m\u001b[39m'\u001b[39m\u001b[39munits: \u001b[39m\u001b[39m{\u001b[39;00mx\u001b[39m!r}\u001b[39;00m\u001b[39m'\u001b[39m) \u001b[39mfrom\u001b[39;00m \u001b[39me\u001b[39;00m\n\u001b[1;32m   1510\u001b[0m \u001b[39mreturn\u001b[39;00m ret\n",
      "\u001b[0;31mConversionError\u001b[0m: Failed to convert value(s) to axis units: 'No-Rate'"
     ]
    },
    {
     "data": {
      "image/png": "[encoded data removed]",
      "text/plain": [
       "<Figure size 432x288 with 1 Axes>"
      ]
     },
     "metadata": {
      "needs_background": "light"
     },
     "output_type": "display_data"
    }
   ],
   "source": [
    "#setting the axes\n",
    "axes = plt.axes()\n",
    "axes.set_xlim([0,(df_perfumes_NEW['Rate'].max())])\n",
    "#making histogram with 20 bins\n",
    "plt.hist('Rate', data = df_perfumes_NEW, bins = 20)\n",
    "plt.xlabel('Num Reviews')\n",
    "plt.ylabel('Quantity')\n",
    "plt.title('Rating Distribution')"
   ]
  },
  {
   "cell_type": "code",
   "execution_count": 48,
   "metadata": {},
   "outputs": [
    {
     "data": {
      "image/png": "[encoded data removed]",
      "text/plain": [
       "<Figure size 432x288 with 1 Axes>"
      ]
     },
     "metadata": {
      "needs_background": "light"
     },
     "output_type": "display_data"
    }
   ],
   "source": [
    "s = pd.DataFrame(df_perfumes['Brand'].value_counts().nlargest(20))\n",
    "s.plot.bar(color = 'green')\n",
    "plt.title('Top Twenty Best-Selling Brands')\n",
    "plt.ylabel('Number of Fragrances')\n",
    "s = s.reset_index()\n",
    "s.columns = ['brand', 'count']"
   ]
  }
 ],
 "metadata": {
  "kernelspec": {
   "display_name": "Python 3.9.2 64-bit",
   "language": "python",
   "name": "python3"
  },
  "language_info": {
   "codemirror_mode": {
    "name": "ipython",
    "version": 3
   },
   "file_extension": ".py",
   "mimetype": "text/x-python",
   "name": "python",
   "nbconvert_exporter": "python",
   "pygments_lexer": "ipython3",
   "version": "3.8.9"
  },
  "orig_nbformat": 4,
  "vscode": {
   "interpreter": {
    "hash": "31f2aee4e71d21fbe5cf8b01ff0e069b9275f58929596ceb00d14d90e3e16cd6"
   }
  }
 },
 "nbformat": 4,
 "nbformat_minor": 2
}
